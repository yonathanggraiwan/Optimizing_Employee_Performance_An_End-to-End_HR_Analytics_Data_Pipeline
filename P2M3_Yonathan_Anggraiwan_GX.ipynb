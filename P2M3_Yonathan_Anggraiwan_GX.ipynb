{
 "cells": [
  {
   "cell_type": "markdown",
   "id": "85d15037",
   "metadata": {},
   "source": [
    "# Milestone 3\n",
    "___\n",
    "\n",
    "## Introduction\n",
    "Nama  : Yonathan Anggraiwan\n",
    "\n",
    "Batch : 028\n",
    "\n",
    "Program ini dibuat untuk melakukan end-to-end data pipeline dari PostgreSQL ke ElasticSearch. Adapun dataset yang dipakai adalah dataset data karyawan yang didapatkan dari situs [Kaggle](https://www.kaggle.com/datasets/mexwell/employee-performance-and-productivity-data). \n",
    "\n",
    "Dalam project kali ini, juga dilakukan validasi data menggunakan teknik Great Expecations, dan visualisasi data yang ditampilkan dalam dashboard interaktif dari Kibana.\n",
    "___\n"
   ]
  },
  {
   "cell_type": "markdown",
   "id": "7e7fe7ee",
   "metadata": {},
   "source": [
    "## Loading Package"
   ]
  },
  {
   "cell_type": "code",
   "execution_count": 1,
   "id": "bbfa50f2",
   "metadata": {},
   "outputs": [],
   "source": [
    "import pandas as pd\n",
    "from great_expectations.data_context import FileDataContext"
   ]
  },
  {
   "cell_type": "markdown",
   "id": "e7ee24b1",
   "metadata": {},
   "source": [
    "___\n",
    "## Loading Clean Data"
   ]
  },
  {
   "cell_type": "markdown",
   "id": "c8ef1b2d",
   "metadata": {},
   "source": [
    "Dataset yang dipakai adalah dataset data karyawan yang didapatkan dari situs [Kaggle](https://www.kaggle.com/datasets/mexwell/employee-performance-and-productivity-data). Saya akan melakukan eksplorasi lebih lanjut dari dataset ini."
   ]
  },
  {
   "cell_type": "code",
   "execution_count": 5,
   "id": "5f1652bd",
   "metadata": {},
   "outputs": [
    {
     "data": {
      "text/html": [
       "<div>\n",
       "<style scoped>\n",
       "    .dataframe tbody tr th:only-of-type {\n",
       "        vertical-align: middle;\n",
       "    }\n",
       "\n",
       "    .dataframe tbody tr th {\n",
       "        vertical-align: top;\n",
       "    }\n",
       "\n",
       "    .dataframe thead th {\n",
       "        text-align: right;\n",
       "    }\n",
       "</style>\n",
       "<table border=\"1\" class=\"dataframe\">\n",
       "  <thead>\n",
       "    <tr style=\"text-align: right;\">\n",
       "      <th></th>\n",
       "      <th>employee_id</th>\n",
       "      <th>department</th>\n",
       "      <th>gender</th>\n",
       "      <th>age</th>\n",
       "      <th>job_title</th>\n",
       "      <th>hire_date</th>\n",
       "      <th>years_at_company</th>\n",
       "      <th>education_level</th>\n",
       "      <th>performance_score</th>\n",
       "      <th>monthly_salary</th>\n",
       "      <th>work_hours_per_week</th>\n",
       "      <th>projects_handled</th>\n",
       "      <th>overtime_hours</th>\n",
       "      <th>sick_days</th>\n",
       "      <th>remote_work_frequency</th>\n",
       "      <th>team_size</th>\n",
       "      <th>training_hours</th>\n",
       "      <th>promotions</th>\n",
       "      <th>employee_satisfaction_score</th>\n",
       "      <th>resigned</th>\n",
       "    </tr>\n",
       "  </thead>\n",
       "  <tbody>\n",
       "    <tr>\n",
       "      <th>0</th>\n",
       "      <td>1</td>\n",
       "      <td>IT</td>\n",
       "      <td>Male</td>\n",
       "      <td>55</td>\n",
       "      <td>Specialist</td>\n",
       "      <td>2022-01-19</td>\n",
       "      <td>2</td>\n",
       "      <td>High School</td>\n",
       "      <td>5</td>\n",
       "      <td>6750.0</td>\n",
       "      <td>33</td>\n",
       "      <td>32</td>\n",
       "      <td>22</td>\n",
       "      <td>2</td>\n",
       "      <td>0</td>\n",
       "      <td>14</td>\n",
       "      <td>66</td>\n",
       "      <td>0</td>\n",
       "      <td>2.63</td>\n",
       "      <td>False</td>\n",
       "    </tr>\n",
       "    <tr>\n",
       "      <th>1</th>\n",
       "      <td>2</td>\n",
       "      <td>Finance</td>\n",
       "      <td>Male</td>\n",
       "      <td>29</td>\n",
       "      <td>Developer</td>\n",
       "      <td>2024-04-18</td>\n",
       "      <td>0</td>\n",
       "      <td>High School</td>\n",
       "      <td>5</td>\n",
       "      <td>7500.0</td>\n",
       "      <td>34</td>\n",
       "      <td>34</td>\n",
       "      <td>13</td>\n",
       "      <td>14</td>\n",
       "      <td>100</td>\n",
       "      <td>12</td>\n",
       "      <td>61</td>\n",
       "      <td>2</td>\n",
       "      <td>1.72</td>\n",
       "      <td>False</td>\n",
       "    </tr>\n",
       "    <tr>\n",
       "      <th>2</th>\n",
       "      <td>3</td>\n",
       "      <td>Finance</td>\n",
       "      <td>Male</td>\n",
       "      <td>55</td>\n",
       "      <td>Specialist</td>\n",
       "      <td>2015-10-26</td>\n",
       "      <td>8</td>\n",
       "      <td>High School</td>\n",
       "      <td>3</td>\n",
       "      <td>5850.0</td>\n",
       "      <td>37</td>\n",
       "      <td>27</td>\n",
       "      <td>6</td>\n",
       "      <td>3</td>\n",
       "      <td>50</td>\n",
       "      <td>10</td>\n",
       "      <td>1</td>\n",
       "      <td>0</td>\n",
       "      <td>3.17</td>\n",
       "      <td>False</td>\n",
       "    </tr>\n",
       "    <tr>\n",
       "      <th>3</th>\n",
       "      <td>4</td>\n",
       "      <td>Customer Support</td>\n",
       "      <td>Female</td>\n",
       "      <td>48</td>\n",
       "      <td>Analyst</td>\n",
       "      <td>2016-10-22</td>\n",
       "      <td>7</td>\n",
       "      <td>Bachelor</td>\n",
       "      <td>2</td>\n",
       "      <td>4800.0</td>\n",
       "      <td>52</td>\n",
       "      <td>10</td>\n",
       "      <td>28</td>\n",
       "      <td>12</td>\n",
       "      <td>100</td>\n",
       "      <td>10</td>\n",
       "      <td>0</td>\n",
       "      <td>1</td>\n",
       "      <td>1.86</td>\n",
       "      <td>False</td>\n",
       "    </tr>\n",
       "    <tr>\n",
       "      <th>4</th>\n",
       "      <td>5</td>\n",
       "      <td>Engineering</td>\n",
       "      <td>Female</td>\n",
       "      <td>36</td>\n",
       "      <td>Analyst</td>\n",
       "      <td>2021-07-23</td>\n",
       "      <td>3</td>\n",
       "      <td>Bachelor</td>\n",
       "      <td>2</td>\n",
       "      <td>4800.0</td>\n",
       "      <td>38</td>\n",
       "      <td>11</td>\n",
       "      <td>29</td>\n",
       "      <td>13</td>\n",
       "      <td>100</td>\n",
       "      <td>15</td>\n",
       "      <td>9</td>\n",
       "      <td>1</td>\n",
       "      <td>1.25</td>\n",
       "      <td>False</td>\n",
       "    </tr>\n",
       "    <tr>\n",
       "      <th>...</th>\n",
       "      <td>...</td>\n",
       "      <td>...</td>\n",
       "      <td>...</td>\n",
       "      <td>...</td>\n",
       "      <td>...</td>\n",
       "      <td>...</td>\n",
       "      <td>...</td>\n",
       "      <td>...</td>\n",
       "      <td>...</td>\n",
       "      <td>...</td>\n",
       "      <td>...</td>\n",
       "      <td>...</td>\n",
       "      <td>...</td>\n",
       "      <td>...</td>\n",
       "      <td>...</td>\n",
       "      <td>...</td>\n",
       "      <td>...</td>\n",
       "      <td>...</td>\n",
       "      <td>...</td>\n",
       "      <td>...</td>\n",
       "    </tr>\n",
       "    <tr>\n",
       "      <th>99995</th>\n",
       "      <td>99996</td>\n",
       "      <td>Finance</td>\n",
       "      <td>Male</td>\n",
       "      <td>27</td>\n",
       "      <td>Technician</td>\n",
       "      <td>2022-12-07</td>\n",
       "      <td>1</td>\n",
       "      <td>Bachelor</td>\n",
       "      <td>4</td>\n",
       "      <td>4900.0</td>\n",
       "      <td>55</td>\n",
       "      <td>46</td>\n",
       "      <td>5</td>\n",
       "      <td>3</td>\n",
       "      <td>75</td>\n",
       "      <td>16</td>\n",
       "      <td>48</td>\n",
       "      <td>2</td>\n",
       "      <td>1.28</td>\n",
       "      <td>False</td>\n",
       "    </tr>\n",
       "    <tr>\n",
       "      <th>99996</th>\n",
       "      <td>99997</td>\n",
       "      <td>IT</td>\n",
       "      <td>Female</td>\n",
       "      <td>36</td>\n",
       "      <td>Consultant</td>\n",
       "      <td>2018-07-24</td>\n",
       "      <td>6</td>\n",
       "      <td>Master</td>\n",
       "      <td>5</td>\n",
       "      <td>8250.0</td>\n",
       "      <td>39</td>\n",
       "      <td>35</td>\n",
       "      <td>7</td>\n",
       "      <td>0</td>\n",
       "      <td>0</td>\n",
       "      <td>10</td>\n",
       "      <td>77</td>\n",
       "      <td>1</td>\n",
       "      <td>3.48</td>\n",
       "      <td>True</td>\n",
       "    </tr>\n",
       "    <tr>\n",
       "      <th>99997</th>\n",
       "      <td>99998</td>\n",
       "      <td>Operations</td>\n",
       "      <td>Male</td>\n",
       "      <td>53</td>\n",
       "      <td>Analyst</td>\n",
       "      <td>2015-11-24</td>\n",
       "      <td>8</td>\n",
       "      <td>High School</td>\n",
       "      <td>2</td>\n",
       "      <td>4800.0</td>\n",
       "      <td>31</td>\n",
       "      <td>13</td>\n",
       "      <td>6</td>\n",
       "      <td>5</td>\n",
       "      <td>0</td>\n",
       "      <td>5</td>\n",
       "      <td>87</td>\n",
       "      <td>1</td>\n",
       "      <td>2.60</td>\n",
       "      <td>False</td>\n",
       "    </tr>\n",
       "    <tr>\n",
       "      <th>99998</th>\n",
       "      <td>99999</td>\n",
       "      <td>HR</td>\n",
       "      <td>Female</td>\n",
       "      <td>22</td>\n",
       "      <td>Consultant</td>\n",
       "      <td>2015-08-03</td>\n",
       "      <td>9</td>\n",
       "      <td>High School</td>\n",
       "      <td>5</td>\n",
       "      <td>8250.0</td>\n",
       "      <td>35</td>\n",
       "      <td>43</td>\n",
       "      <td>10</td>\n",
       "      <td>1</td>\n",
       "      <td>75</td>\n",
       "      <td>2</td>\n",
       "      <td>31</td>\n",
       "      <td>1</td>\n",
       "      <td>3.10</td>\n",
       "      <td>False</td>\n",
       "    </tr>\n",
       "    <tr>\n",
       "      <th>99999</th>\n",
       "      <td>100000</td>\n",
       "      <td>Finance</td>\n",
       "      <td>Female</td>\n",
       "      <td>43</td>\n",
       "      <td>Analyst</td>\n",
       "      <td>2024-03-04</td>\n",
       "      <td>0</td>\n",
       "      <td>PhD</td>\n",
       "      <td>1</td>\n",
       "      <td>4400.0</td>\n",
       "      <td>51</td>\n",
       "      <td>43</td>\n",
       "      <td>27</td>\n",
       "      <td>11</td>\n",
       "      <td>75</td>\n",
       "      <td>13</td>\n",
       "      <td>45</td>\n",
       "      <td>1</td>\n",
       "      <td>2.64</td>\n",
       "      <td>False</td>\n",
       "    </tr>\n",
       "  </tbody>\n",
       "</table>\n",
       "<p>100000 rows × 20 columns</p>\n",
       "</div>"
      ],
      "text/plain": [
       "       employee_id        department  gender  age   job_title   hire_date  \\\n",
       "0                1                IT    Male   55  Specialist  2022-01-19   \n",
       "1                2           Finance    Male   29   Developer  2024-04-18   \n",
       "2                3           Finance    Male   55  Specialist  2015-10-26   \n",
       "3                4  Customer Support  Female   48     Analyst  2016-10-22   \n",
       "4                5       Engineering  Female   36     Analyst  2021-07-23   \n",
       "...            ...               ...     ...  ...         ...         ...   \n",
       "99995        99996           Finance    Male   27  Technician  2022-12-07   \n",
       "99996        99997                IT  Female   36  Consultant  2018-07-24   \n",
       "99997        99998        Operations    Male   53     Analyst  2015-11-24   \n",
       "99998        99999                HR  Female   22  Consultant  2015-08-03   \n",
       "99999       100000           Finance  Female   43     Analyst  2024-03-04   \n",
       "\n",
       "       years_at_company education_level  performance_score  monthly_salary  \\\n",
       "0                     2     High School                  5          6750.0   \n",
       "1                     0     High School                  5          7500.0   \n",
       "2                     8     High School                  3          5850.0   \n",
       "3                     7        Bachelor                  2          4800.0   \n",
       "4                     3        Bachelor                  2          4800.0   \n",
       "...                 ...             ...                ...             ...   \n",
       "99995                 1        Bachelor                  4          4900.0   \n",
       "99996                 6          Master                  5          8250.0   \n",
       "99997                 8     High School                  2          4800.0   \n",
       "99998                 9     High School                  5          8250.0   \n",
       "99999                 0             PhD                  1          4400.0   \n",
       "\n",
       "       work_hours_per_week  projects_handled  overtime_hours  sick_days  \\\n",
       "0                       33                32              22          2   \n",
       "1                       34                34              13         14   \n",
       "2                       37                27               6          3   \n",
       "3                       52                10              28         12   \n",
       "4                       38                11              29         13   \n",
       "...                    ...               ...             ...        ...   \n",
       "99995                   55                46               5          3   \n",
       "99996                   39                35               7          0   \n",
       "99997                   31                13               6          5   \n",
       "99998                   35                43              10          1   \n",
       "99999                   51                43              27         11   \n",
       "\n",
       "       remote_work_frequency  team_size  training_hours  promotions  \\\n",
       "0                          0         14              66           0   \n",
       "1                        100         12              61           2   \n",
       "2                         50         10               1           0   \n",
       "3                        100         10               0           1   \n",
       "4                        100         15               9           1   \n",
       "...                      ...        ...             ...         ...   \n",
       "99995                     75         16              48           2   \n",
       "99996                      0         10              77           1   \n",
       "99997                      0          5              87           1   \n",
       "99998                     75          2              31           1   \n",
       "99999                     75         13              45           1   \n",
       "\n",
       "       employee_satisfaction_score  resigned  \n",
       "0                             2.63     False  \n",
       "1                             1.72     False  \n",
       "2                             3.17     False  \n",
       "3                             1.86     False  \n",
       "4                             1.25     False  \n",
       "...                            ...       ...  \n",
       "99995                         1.28     False  \n",
       "99996                         3.48      True  \n",
       "99997                         2.60     False  \n",
       "99998                         3.10     False  \n",
       "99999                         2.64     False  \n",
       "\n",
       "[100000 rows x 20 columns]"
      ]
     },
     "execution_count": 5,
     "metadata": {},
     "output_type": "execute_result"
    }
   ],
   "source": [
    "df = pd.read_csv(\"dags/P2M3_Yonathan_Anggraiwan_data_clean.csv\")\n",
    "df"
   ]
  },
  {
   "cell_type": "code",
   "execution_count": 19,
   "id": "30f9c80d",
   "metadata": {},
   "outputs": [
    {
     "data": {
      "text/html": [
       "<div>\n",
       "<style scoped>\n",
       "    .dataframe tbody tr th:only-of-type {\n",
       "        vertical-align: middle;\n",
       "    }\n",
       "\n",
       "    .dataframe tbody tr th {\n",
       "        vertical-align: top;\n",
       "    }\n",
       "\n",
       "    .dataframe thead th {\n",
       "        text-align: right;\n",
       "    }\n",
       "</style>\n",
       "<table border=\"1\" class=\"dataframe\">\n",
       "  <thead>\n",
       "    <tr style=\"text-align: right;\">\n",
       "      <th></th>\n",
       "      <th>employee_id</th>\n",
       "      <th>age</th>\n",
       "      <th>years_at_company</th>\n",
       "      <th>performance_score</th>\n",
       "      <th>monthly_salary</th>\n",
       "      <th>work_hours_per_week</th>\n",
       "      <th>projects_handled</th>\n",
       "      <th>overtime_hours</th>\n",
       "      <th>sick_days</th>\n",
       "      <th>remote_work_frequency</th>\n",
       "      <th>team_size</th>\n",
       "      <th>training_hours</th>\n",
       "      <th>promotions</th>\n",
       "      <th>employee_satisfaction_score</th>\n",
       "    </tr>\n",
       "  </thead>\n",
       "  <tbody>\n",
       "    <tr>\n",
       "      <th>count</th>\n",
       "      <td>100000.000000</td>\n",
       "      <td>100000.000000</td>\n",
       "      <td>100000.000000</td>\n",
       "      <td>100000.000000</td>\n",
       "      <td>100000.000000</td>\n",
       "      <td>100000.000000</td>\n",
       "      <td>100000.000000</td>\n",
       "      <td>100000.000000</td>\n",
       "      <td>100000.000000</td>\n",
       "      <td>100000.000000</td>\n",
       "      <td>100000.000000</td>\n",
       "      <td>100000.000000</td>\n",
       "      <td>100000.000000</td>\n",
       "      <td>100000.000000</td>\n",
       "    </tr>\n",
       "    <tr>\n",
       "      <th>mean</th>\n",
       "      <td>50000.500000</td>\n",
       "      <td>41.029410</td>\n",
       "      <td>4.476070</td>\n",
       "      <td>2.995430</td>\n",
       "      <td>6403.211000</td>\n",
       "      <td>44.956950</td>\n",
       "      <td>24.431170</td>\n",
       "      <td>14.514930</td>\n",
       "      <td>7.008550</td>\n",
       "      <td>50.090500</td>\n",
       "      <td>10.013560</td>\n",
       "      <td>49.506060</td>\n",
       "      <td>0.999720</td>\n",
       "      <td>2.999088</td>\n",
       "    </tr>\n",
       "    <tr>\n",
       "      <th>std</th>\n",
       "      <td>28867.657797</td>\n",
       "      <td>11.244121</td>\n",
       "      <td>2.869336</td>\n",
       "      <td>1.414726</td>\n",
       "      <td>1372.508717</td>\n",
       "      <td>8.942003</td>\n",
       "      <td>14.469584</td>\n",
       "      <td>8.664026</td>\n",
       "      <td>4.331591</td>\n",
       "      <td>35.351157</td>\n",
       "      <td>5.495405</td>\n",
       "      <td>28.890383</td>\n",
       "      <td>0.815872</td>\n",
       "      <td>1.150719</td>\n",
       "    </tr>\n",
       "    <tr>\n",
       "      <th>min</th>\n",
       "      <td>1.000000</td>\n",
       "      <td>22.000000</td>\n",
       "      <td>0.000000</td>\n",
       "      <td>1.000000</td>\n",
       "      <td>3850.000000</td>\n",
       "      <td>30.000000</td>\n",
       "      <td>0.000000</td>\n",
       "      <td>0.000000</td>\n",
       "      <td>0.000000</td>\n",
       "      <td>0.000000</td>\n",
       "      <td>1.000000</td>\n",
       "      <td>0.000000</td>\n",
       "      <td>0.000000</td>\n",
       "      <td>1.000000</td>\n",
       "    </tr>\n",
       "    <tr>\n",
       "      <th>25%</th>\n",
       "      <td>25000.750000</td>\n",
       "      <td>31.000000</td>\n",
       "      <td>2.000000</td>\n",
       "      <td>2.000000</td>\n",
       "      <td>5250.000000</td>\n",
       "      <td>37.000000</td>\n",
       "      <td>12.000000</td>\n",
       "      <td>7.000000</td>\n",
       "      <td>3.000000</td>\n",
       "      <td>25.000000</td>\n",
       "      <td>5.000000</td>\n",
       "      <td>25.000000</td>\n",
       "      <td>0.000000</td>\n",
       "      <td>2.010000</td>\n",
       "    </tr>\n",
       "    <tr>\n",
       "      <th>50%</th>\n",
       "      <td>50000.500000</td>\n",
       "      <td>41.000000</td>\n",
       "      <td>4.000000</td>\n",
       "      <td>3.000000</td>\n",
       "      <td>6500.000000</td>\n",
       "      <td>45.000000</td>\n",
       "      <td>24.000000</td>\n",
       "      <td>15.000000</td>\n",
       "      <td>7.000000</td>\n",
       "      <td>50.000000</td>\n",
       "      <td>10.000000</td>\n",
       "      <td>49.000000</td>\n",
       "      <td>1.000000</td>\n",
       "      <td>3.000000</td>\n",
       "    </tr>\n",
       "    <tr>\n",
       "      <th>75%</th>\n",
       "      <td>75000.250000</td>\n",
       "      <td>51.000000</td>\n",
       "      <td>7.000000</td>\n",
       "      <td>4.000000</td>\n",
       "      <td>7500.000000</td>\n",
       "      <td>53.000000</td>\n",
       "      <td>37.000000</td>\n",
       "      <td>22.000000</td>\n",
       "      <td>11.000000</td>\n",
       "      <td>75.000000</td>\n",
       "      <td>15.000000</td>\n",
       "      <td>75.000000</td>\n",
       "      <td>2.000000</td>\n",
       "      <td>3.990000</td>\n",
       "    </tr>\n",
       "    <tr>\n",
       "      <th>max</th>\n",
       "      <td>100000.000000</td>\n",
       "      <td>60.000000</td>\n",
       "      <td>10.000000</td>\n",
       "      <td>5.000000</td>\n",
       "      <td>9000.000000</td>\n",
       "      <td>60.000000</td>\n",
       "      <td>49.000000</td>\n",
       "      <td>29.000000</td>\n",
       "      <td>14.000000</td>\n",
       "      <td>100.000000</td>\n",
       "      <td>19.000000</td>\n",
       "      <td>99.000000</td>\n",
       "      <td>2.000000</td>\n",
       "      <td>5.000000</td>\n",
       "    </tr>\n",
       "  </tbody>\n",
       "</table>\n",
       "</div>"
      ],
      "text/plain": [
       "         employee_id            age  years_at_company  performance_score  \\\n",
       "count  100000.000000  100000.000000     100000.000000      100000.000000   \n",
       "mean    50000.500000      41.029410          4.476070           2.995430   \n",
       "std     28867.657797      11.244121          2.869336           1.414726   \n",
       "min         1.000000      22.000000          0.000000           1.000000   \n",
       "25%     25000.750000      31.000000          2.000000           2.000000   \n",
       "50%     50000.500000      41.000000          4.000000           3.000000   \n",
       "75%     75000.250000      51.000000          7.000000           4.000000   \n",
       "max    100000.000000      60.000000         10.000000           5.000000   \n",
       "\n",
       "       monthly_salary  work_hours_per_week  projects_handled  overtime_hours  \\\n",
       "count   100000.000000        100000.000000     100000.000000   100000.000000   \n",
       "mean      6403.211000            44.956950         24.431170       14.514930   \n",
       "std       1372.508717             8.942003         14.469584        8.664026   \n",
       "min       3850.000000            30.000000          0.000000        0.000000   \n",
       "25%       5250.000000            37.000000         12.000000        7.000000   \n",
       "50%       6500.000000            45.000000         24.000000       15.000000   \n",
       "75%       7500.000000            53.000000         37.000000       22.000000   \n",
       "max       9000.000000            60.000000         49.000000       29.000000   \n",
       "\n",
       "           sick_days  remote_work_frequency      team_size  training_hours  \\\n",
       "count  100000.000000          100000.000000  100000.000000   100000.000000   \n",
       "mean        7.008550              50.090500      10.013560       49.506060   \n",
       "std         4.331591              35.351157       5.495405       28.890383   \n",
       "min         0.000000               0.000000       1.000000        0.000000   \n",
       "25%         3.000000              25.000000       5.000000       25.000000   \n",
       "50%         7.000000              50.000000      10.000000       49.000000   \n",
       "75%        11.000000              75.000000      15.000000       75.000000   \n",
       "max        14.000000             100.000000      19.000000       99.000000   \n",
       "\n",
       "          promotions  employee_satisfaction_score  \n",
       "count  100000.000000                100000.000000  \n",
       "mean        0.999720                     2.999088  \n",
       "std         0.815872                     1.150719  \n",
       "min         0.000000                     1.000000  \n",
       "25%         0.000000                     2.010000  \n",
       "50%         1.000000                     3.000000  \n",
       "75%         2.000000                     3.990000  \n",
       "max         2.000000                     5.000000  "
      ]
     },
     "execution_count": 19,
     "metadata": {},
     "output_type": "execute_result"
    }
   ],
   "source": [
    "df.describe()"
   ]
  },
  {
   "cell_type": "markdown",
   "id": "30f2085d",
   "metadata": {},
   "source": [
    "___\n",
    "## Great Expectations Section"
   ]
  },
  {
   "cell_type": "markdown",
   "id": "962dc45b",
   "metadata": {},
   "source": [
    "Dalam GE (Great Expecations), langkah pertama adalah membuat konteks data yang diolah, lalu menamakan data yang digunakan, serta mengatur lokasi dari data yang diolah, supaya datanya dapat siap untuk divalidasi menggunakan validator Great Expectations."
   ]
  },
  {
   "cell_type": "code",
   "execution_count": 6,
   "id": "a9b88c00",
   "metadata": {},
   "outputs": [],
   "source": [
    "# Create a data context\n",
    "context = FileDataContext.create(project_root_dir='./')"
   ]
  },
  {
   "cell_type": "code",
   "execution_count": 7,
   "id": "6ed4ebd1",
   "metadata": {},
   "outputs": [],
   "source": [
    "# Give a name to a Datasource. This name must be unique between Datasources.\n",
    "datasource_name = 'csv-data-ms3-1.1'\n",
    "datasource = context.sources.add_pandas(datasource_name)\n",
    "\n",
    "# Give a name to a data asset\n",
    "asset_name = 'ms3'\n",
    "path_to_data = r'D:\\1. Data Science\\1. Bootcamp\\Fase 2\\hck028\\p2-ftds028-hck-m3-yonathanggraiwan\\dags\\P2M3_Yonathan_Anggraiwan_data_clean.csv'\n",
    "asset = datasource.add_csv_asset(asset_name, filepath_or_buffer=path_to_data)\n",
    "\n",
    "# Build batch request\n",
    "batch_request = asset.build_batch_request()"
   ]
  },
  {
   "cell_type": "code",
   "execution_count": 8,
   "id": "0012a638",
   "metadata": {},
   "outputs": [
    {
     "data": {
      "application/vnd.jupyter.widget-view+json": {
       "model_id": "ab790fd0ce794746821c87ec941e188a",
       "version_major": 2,
       "version_minor": 0
      },
      "text/plain": [
       "Calculating Metrics:   0%|          | 0/1 [00:00<?, ?it/s]"
      ]
     },
     "metadata": {},
     "output_type": "display_data"
    },
    {
     "data": {
      "text/html": [
       "<div>\n",
       "<style scoped>\n",
       "    .dataframe tbody tr th:only-of-type {\n",
       "        vertical-align: middle;\n",
       "    }\n",
       "\n",
       "    .dataframe tbody tr th {\n",
       "        vertical-align: top;\n",
       "    }\n",
       "\n",
       "    .dataframe thead th {\n",
       "        text-align: right;\n",
       "    }\n",
       "</style>\n",
       "<table border=\"1\" class=\"dataframe\">\n",
       "  <thead>\n",
       "    <tr style=\"text-align: right;\">\n",
       "      <th></th>\n",
       "      <th>employee_id</th>\n",
       "      <th>department</th>\n",
       "      <th>gender</th>\n",
       "      <th>age</th>\n",
       "      <th>job_title</th>\n",
       "      <th>hire_date</th>\n",
       "      <th>years_at_company</th>\n",
       "      <th>education_level</th>\n",
       "      <th>performance_score</th>\n",
       "      <th>monthly_salary</th>\n",
       "      <th>work_hours_per_week</th>\n",
       "      <th>projects_handled</th>\n",
       "      <th>overtime_hours</th>\n",
       "      <th>sick_days</th>\n",
       "      <th>remote_work_frequency</th>\n",
       "      <th>team_size</th>\n",
       "      <th>training_hours</th>\n",
       "      <th>promotions</th>\n",
       "      <th>employee_satisfaction_score</th>\n",
       "      <th>resigned</th>\n",
       "    </tr>\n",
       "  </thead>\n",
       "  <tbody>\n",
       "    <tr>\n",
       "      <th>0</th>\n",
       "      <td>1</td>\n",
       "      <td>IT</td>\n",
       "      <td>Male</td>\n",
       "      <td>55</td>\n",
       "      <td>Specialist</td>\n",
       "      <td>2022-01-19</td>\n",
       "      <td>2</td>\n",
       "      <td>High School</td>\n",
       "      <td>5</td>\n",
       "      <td>6750.0</td>\n",
       "      <td>33</td>\n",
       "      <td>32</td>\n",
       "      <td>22</td>\n",
       "      <td>2</td>\n",
       "      <td>0</td>\n",
       "      <td>14</td>\n",
       "      <td>66</td>\n",
       "      <td>0</td>\n",
       "      <td>2.63</td>\n",
       "      <td>False</td>\n",
       "    </tr>\n",
       "    <tr>\n",
       "      <th>1</th>\n",
       "      <td>2</td>\n",
       "      <td>Finance</td>\n",
       "      <td>Male</td>\n",
       "      <td>29</td>\n",
       "      <td>Developer</td>\n",
       "      <td>2024-04-18</td>\n",
       "      <td>0</td>\n",
       "      <td>High School</td>\n",
       "      <td>5</td>\n",
       "      <td>7500.0</td>\n",
       "      <td>34</td>\n",
       "      <td>34</td>\n",
       "      <td>13</td>\n",
       "      <td>14</td>\n",
       "      <td>100</td>\n",
       "      <td>12</td>\n",
       "      <td>61</td>\n",
       "      <td>2</td>\n",
       "      <td>1.72</td>\n",
       "      <td>False</td>\n",
       "    </tr>\n",
       "    <tr>\n",
       "      <th>2</th>\n",
       "      <td>3</td>\n",
       "      <td>Finance</td>\n",
       "      <td>Male</td>\n",
       "      <td>55</td>\n",
       "      <td>Specialist</td>\n",
       "      <td>2015-10-26</td>\n",
       "      <td>8</td>\n",
       "      <td>High School</td>\n",
       "      <td>3</td>\n",
       "      <td>5850.0</td>\n",
       "      <td>37</td>\n",
       "      <td>27</td>\n",
       "      <td>6</td>\n",
       "      <td>3</td>\n",
       "      <td>50</td>\n",
       "      <td>10</td>\n",
       "      <td>1</td>\n",
       "      <td>0</td>\n",
       "      <td>3.17</td>\n",
       "      <td>False</td>\n",
       "    </tr>\n",
       "    <tr>\n",
       "      <th>3</th>\n",
       "      <td>4</td>\n",
       "      <td>Customer Support</td>\n",
       "      <td>Female</td>\n",
       "      <td>48</td>\n",
       "      <td>Analyst</td>\n",
       "      <td>2016-10-22</td>\n",
       "      <td>7</td>\n",
       "      <td>Bachelor</td>\n",
       "      <td>2</td>\n",
       "      <td>4800.0</td>\n",
       "      <td>52</td>\n",
       "      <td>10</td>\n",
       "      <td>28</td>\n",
       "      <td>12</td>\n",
       "      <td>100</td>\n",
       "      <td>10</td>\n",
       "      <td>0</td>\n",
       "      <td>1</td>\n",
       "      <td>1.86</td>\n",
       "      <td>False</td>\n",
       "    </tr>\n",
       "    <tr>\n",
       "      <th>4</th>\n",
       "      <td>5</td>\n",
       "      <td>Engineering</td>\n",
       "      <td>Female</td>\n",
       "      <td>36</td>\n",
       "      <td>Analyst</td>\n",
       "      <td>2021-07-23</td>\n",
       "      <td>3</td>\n",
       "      <td>Bachelor</td>\n",
       "      <td>2</td>\n",
       "      <td>4800.0</td>\n",
       "      <td>38</td>\n",
       "      <td>11</td>\n",
       "      <td>29</td>\n",
       "      <td>13</td>\n",
       "      <td>100</td>\n",
       "      <td>15</td>\n",
       "      <td>9</td>\n",
       "      <td>1</td>\n",
       "      <td>1.25</td>\n",
       "      <td>False</td>\n",
       "    </tr>\n",
       "  </tbody>\n",
       "</table>\n",
       "</div>"
      ],
      "text/plain": [
       "   employee_id        department  gender  age   job_title   hire_date  \\\n",
       "0            1                IT    Male   55  Specialist  2022-01-19   \n",
       "1            2           Finance    Male   29   Developer  2024-04-18   \n",
       "2            3           Finance    Male   55  Specialist  2015-10-26   \n",
       "3            4  Customer Support  Female   48     Analyst  2016-10-22   \n",
       "4            5       Engineering  Female   36     Analyst  2021-07-23   \n",
       "\n",
       "   years_at_company education_level  performance_score  monthly_salary  \\\n",
       "0                 2     High School                  5          6750.0   \n",
       "1                 0     High School                  5          7500.0   \n",
       "2                 8     High School                  3          5850.0   \n",
       "3                 7        Bachelor                  2          4800.0   \n",
       "4                 3        Bachelor                  2          4800.0   \n",
       "\n",
       "   work_hours_per_week  projects_handled  overtime_hours  sick_days  \\\n",
       "0                   33                32              22          2   \n",
       "1                   34                34              13         14   \n",
       "2                   37                27               6          3   \n",
       "3                   52                10              28         12   \n",
       "4                   38                11              29         13   \n",
       "\n",
       "   remote_work_frequency  team_size  training_hours  promotions  \\\n",
       "0                      0         14              66           0   \n",
       "1                    100         12              61           2   \n",
       "2                     50         10               1           0   \n",
       "3                    100         10               0           1   \n",
       "4                    100         15               9           1   \n",
       "\n",
       "   employee_satisfaction_score  resigned  \n",
       "0                         2.63     False  \n",
       "1                         1.72     False  \n",
       "2                         3.17     False  \n",
       "3                         1.86     False  \n",
       "4                         1.25     False  "
      ]
     },
     "execution_count": 8,
     "metadata": {},
     "output_type": "execute_result"
    }
   ],
   "source": [
    "# Creat an expectation suite\n",
    "expectation_suite_name = 'expectation-data-ms3'\n",
    "context.add_or_update_expectation_suite(expectation_suite_name)\n",
    "\n",
    "# Create a validator using above expectation suite\n",
    "validator = context.get_validator(\n",
    "    batch_request = batch_request,\n",
    "    expectation_suite_name = expectation_suite_name\n",
    ")\n",
    "\n",
    "# Check the validator\n",
    "validator.head()"
   ]
  },
  {
   "cell_type": "markdown",
   "id": "6f4e6b80",
   "metadata": {},
   "source": [
    "Setelah data sudah berhasil disiapkan dan validatornya sudah dihubungkan dengan data, maka kita masuk ke sesi validasinya, dimana saya melakukan 7 ekspektasi dalam data project kali ini."
   ]
  },
  {
   "cell_type": "markdown",
   "id": "a27a9516",
   "metadata": {},
   "source": [
    "___\n",
    "### Expectation 1: To Be Unique"
   ]
  },
  {
   "cell_type": "markdown",
   "id": "fba7d630",
   "metadata": {},
   "source": [
    "Espektasi 'expect_compound_columns_to_be_unique' digunakan untuk memastikan bahwa gabungan nilai-nilai dari seluruh kolom dalam data tidak ada yang sama persis antar baris. \n",
    "\n",
    "Artinya, setiap karyawan memiliki satu kombinasi informasi yang unik seperti \"fingerprint\" data mereka."
   ]
  },
  {
   "cell_type": "code",
   "execution_count": 10,
   "id": "05f63a30",
   "metadata": {},
   "outputs": [
    {
     "data": {
      "application/vnd.jupyter.widget-view+json": {
       "model_id": "059418d79b3c47b5aeb503e4dfadd670",
       "version_major": 2,
       "version_minor": 0
      },
      "text/plain": [
       "Calculating Metrics:   0%|          | 0/7 [00:00<?, ?it/s]"
      ]
     },
     "metadata": {},
     "output_type": "display_data"
    },
    {
     "data": {
      "text/plain": [
       "{\n",
       "  \"success\": true,\n",
       "  \"result\": {\n",
       "    \"element_count\": 100000,\n",
       "    \"unexpected_count\": 0,\n",
       "    \"unexpected_percent\": 0.0,\n",
       "    \"partial_unexpected_list\": [],\n",
       "    \"missing_count\": 0,\n",
       "    \"missing_percent\": 0.0,\n",
       "    \"unexpected_percent_total\": 0.0,\n",
       "    \"unexpected_percent_nonmissing\": 0.0\n",
       "  },\n",
       "  \"meta\": {},\n",
       "  \"exception_info\": {\n",
       "    \"raised_exception\": false,\n",
       "    \"exception_traceback\": null,\n",
       "    \"exception_message\": null\n",
       "  }\n",
       "}"
      ]
     },
     "execution_count": 10,
     "metadata": {},
     "output_type": "execute_result"
    }
   ],
   "source": [
    "# Expectation 1: \n",
    "# Ensure the uniqueness of each employee record by validating the combination of 20 key attributes.\n",
    "\n",
    "validator.expect_compound_columns_to_be_unique(\n",
    "    column_list = [\n",
    "    \"employee_id\", \n",
    "    \"department\", \n",
    "    \"gender\", \n",
    "    \"age\", \n",
    "    \"job_title\", \n",
    "    \"hire_date\",\n",
    "    \"years_at_company\", \n",
    "    \"education_level\", \n",
    "    \"performance_score\", \n",
    "    \"monthly_salary\",\n",
    "    \"work_hours_per_week\", \n",
    "    \"projects_handled\", \n",
    "    \"overtime_hours\", \n",
    "    \"sick_days\",\n",
    "    \"remote_work_frequency\", \n",
    "    \"team_size\", \n",
    "    \"training_hours\", \n",
    "    \"promotions\",\n",
    "    \"employee_satisfaction_score\", \n",
    "    \"resigned\"])"
   ]
  },
  {
   "cell_type": "markdown",
   "id": "e8e16094",
   "metadata": {},
   "source": [
    "Dari pengecekan, semua gabungan nilai-nilai dari seluruh kolom dalam data tidak ada yang sama persis antar baris. \n",
    "\n",
    "- Total pengecekan baris: 10.000 baris\n",
    "- Nilai duplikat yang tidak terduga: 0\n",
    "- Nilai hilang: 0\n",
    "- Persentase tak terduga: 0,0%"
   ]
  },
  {
   "cell_type": "markdown",
   "id": "18cc0ffc",
   "metadata": {},
   "source": [
    "___\n",
    "### Expectation 2: To Be Between"
   ]
  },
  {
   "cell_type": "markdown",
   "id": "e4dce9c7",
   "metadata": {},
   "source": [
    "Ekspektasi 'expect_column_values_to_be_between' digunakana untuk memastikan nilai value dalam suatu kolom berada dalam suatu rentan yang ada.\n",
    "\n",
    "Dalam data ini, saya ingin memvalidasi apakah data gaji bulanan atau 'Monthly_Salary' seluruh karyawan terdapat dalam rentan 3850 hingga 9000."
   ]
  },
  {
   "cell_type": "code",
   "execution_count": 11,
   "id": "59f29e13",
   "metadata": {},
   "outputs": [
    {
     "data": {
      "application/vnd.jupyter.widget-view+json": {
       "model_id": "929798d118824575a385461a8020dea9",
       "version_major": 2,
       "version_minor": 0
      },
      "text/plain": [
       "Calculating Metrics:   0%|          | 0/8 [00:00<?, ?it/s]"
      ]
     },
     "metadata": {},
     "output_type": "display_data"
    },
    {
     "data": {
      "text/plain": [
       "{\n",
       "  \"success\": true,\n",
       "  \"result\": {\n",
       "    \"element_count\": 100000,\n",
       "    \"unexpected_count\": 0,\n",
       "    \"unexpected_percent\": 0.0,\n",
       "    \"partial_unexpected_list\": [],\n",
       "    \"missing_count\": 0,\n",
       "    \"missing_percent\": 0.0,\n",
       "    \"unexpected_percent_total\": 0.0,\n",
       "    \"unexpected_percent_nonmissing\": 0.0\n",
       "  },\n",
       "  \"meta\": {},\n",
       "  \"exception_info\": {\n",
       "    \"raised_exception\": false,\n",
       "    \"exception_traceback\": null,\n",
       "    \"exception_message\": null\n",
       "  }\n",
       "}"
      ]
     },
     "execution_count": 11,
     "metadata": {},
     "output_type": "execute_result"
    }
   ],
   "source": [
    "# Expectation 2:\n",
    "# Ensure that all values in the 'Monthly_Salary' column fall within a reasonable range,\n",
    "# between 3,850 and 9,000. This range could represent normalized salary units.\n",
    "\n",
    "validator.expect_column_values_to_be_between(\n",
    "    column=\"monthly_salary\",\n",
    "    min_value=3_850,\n",
    "    max_value=9000\n",
    ")"
   ]
  },
  {
   "cell_type": "markdown",
   "id": "d3569bbb",
   "metadata": {},
   "source": [
    "Dalam pengecekan, dapat disimpulkan kebenaran dari rentan gaji karyawan atau 'Monthly_Salary' berada dalam rentan 3850 hingga 9000.\n",
    "\n",
    "- Total pengecekan baris: 10.000 baris\n",
    "- Persentase tak terduga: 0,0%\n",
    "- Nilai hilang: 0\n",
    "- Total persentase tak terduga: 0,0%"
   ]
  },
  {
   "cell_type": "markdown",
   "id": "e646ad91",
   "metadata": {},
   "source": [
    "___\n",
    "### Expectation 3: Most Common Value To Be In Set"
   ]
  },
  {
   "cell_type": "markdown",
   "id": "c87ede2f",
   "metadata": {},
   "source": [
    "Ekspektasi 'expect_column_most_common_value_to_be_in_set' digunakan untuk memvalidasi nilai atau value data yang paling sering muncul dalam suatu kolom.\n",
    "\n",
    "Pada ekspektasi ini, saya memvalidasi manakah bagian tim 'IT' atau 'Marketing' yang memiliki paling banyak karyawan dalam perusahaan."
   ]
  },
  {
   "cell_type": "code",
   "execution_count": 12,
   "id": "db90d46b",
   "metadata": {},
   "outputs": [
    {
     "data": {
      "application/vnd.jupyter.widget-view+json": {
       "model_id": "3e91778ddc724b1bb2e011424d072030",
       "version_major": 2,
       "version_minor": 0
      },
      "text/plain": [
       "Calculating Metrics:   0%|          | 0/4 [00:00<?, ?it/s]"
      ]
     },
     "metadata": {},
     "output_type": "display_data"
    },
    {
     "data": {
      "text/plain": [
       "{\n",
       "  \"success\": true,\n",
       "  \"result\": {\n",
       "    \"observed_value\": [\n",
       "      \"Marketing\"\n",
       "    ]\n",
       "  },\n",
       "  \"meta\": {},\n",
       "  \"exception_info\": {\n",
       "    \"raised_exception\": false,\n",
       "    \"exception_traceback\": null,\n",
       "    \"exception_message\": null\n",
       "  }\n",
       "}"
      ]
     },
     "execution_count": 12,
     "metadata": {},
     "output_type": "execute_result"
    }
   ],
   "source": [
    "# Expectation 3:\n",
    "# Confirm that the most frequently occurring value in the 'Department' column is either 'IT' or 'Marketing'. \n",
    "# This helps check for dominant categories. If there is a tie between values, it is still considered valid.\n",
    "\n",
    "validator.expect_column_most_common_value_to_be_in_set(\n",
    "    column=\"department\",\n",
    "    value_set=[\"IT\", \"Marketing\"],\n",
    "    ties_okay=True  # set ke True kalau kamu mau toleransi nilai dominan lebih dari 1\n",
    ")\n"
   ]
  },
  {
   "cell_type": "markdown",
   "id": "ffcdafef",
   "metadata": {},
   "source": [
    "Dalam pengecekan, bagian tim Marketing yang karyawannya terbanyak di perusahaan.\n",
    "\n",
    "- Nilai obseravasi: Marketing"
   ]
  },
  {
   "cell_type": "markdown",
   "id": "25a06e29",
   "metadata": {},
   "source": [
    "___\n",
    "### Expecation 4: Column Values To Be In Set"
   ]
  },
  {
   "cell_type": "markdown",
   "id": "e5f41fbf",
   "metadata": {},
   "source": [
    "Ekspektasi 'expect_column_values_to_be_in_set' digunakan untuk melakukan validasi nilai dalam suatu kolom apakah benar berisi nilai-nilai yang divalidasi atau tidak.\n",
    "\n",
    "Dalam ekspektasi ini, saya memvalidasi apakah hanya terdapat gelar pendidikan 'High School', 'Bachelor', 'Master', dan 'PhD' untuk semua karyawan perusahaan."
   ]
  },
  {
   "cell_type": "code",
   "execution_count": 13,
   "id": "df4f7105",
   "metadata": {},
   "outputs": [
    {
     "data": {
      "application/vnd.jupyter.widget-view+json": {
       "model_id": "95281a13ae014ef98a81b04522347631",
       "version_major": 2,
       "version_minor": 0
      },
      "text/plain": [
       "Calculating Metrics:   0%|          | 0/8 [00:00<?, ?it/s]"
      ]
     },
     "metadata": {},
     "output_type": "display_data"
    },
    {
     "data": {
      "text/plain": [
       "{\n",
       "  \"success\": true,\n",
       "  \"result\": {\n",
       "    \"element_count\": 100000,\n",
       "    \"unexpected_count\": 0,\n",
       "    \"unexpected_percent\": 0.0,\n",
       "    \"partial_unexpected_list\": [],\n",
       "    \"missing_count\": 0,\n",
       "    \"missing_percent\": 0.0,\n",
       "    \"unexpected_percent_total\": 0.0,\n",
       "    \"unexpected_percent_nonmissing\": 0.0\n",
       "  },\n",
       "  \"meta\": {},\n",
       "  \"exception_info\": {\n",
       "    \"raised_exception\": false,\n",
       "    \"exception_traceback\": null,\n",
       "    \"exception_message\": null\n",
       "  }\n",
       "}"
      ]
     },
     "execution_count": 13,
     "metadata": {},
     "output_type": "execute_result"
    }
   ],
   "source": [
    "# Expectation 4:\n",
    "# Validate that all values in the 'Education_Level' column match one of the expected options.\n",
    "# Helps ensure categorical integrity and catch typos or unexpected entries.\n",
    "\n",
    "validator.expect_column_values_to_be_in_set(\n",
    "    column=\"education_level\",\n",
    "    value_set=['High School', 'Bachelor', 'Master', 'PhD']  # Ganti sesuai daftar nilai valid kamu\n",
    ")"
   ]
  },
  {
   "cell_type": "markdown",
   "id": "65f187e2",
   "metadata": {},
   "source": [
    "Dalam pengecekan, betul adanya bahwa hanya terdapat gelar pendidikan 'High School', 'Bachelor', 'Master', dan 'PhD' untuk semua karyawan perusahaan.\n",
    "\n",
    "- Total pengecekan baris: 10.000 baris\n",
    "- Persentase tak terduga: 0,0%\n",
    "- Nilai hilang: 0\n",
    "- Total persentase tak terduga: 0,0%"
   ]
  },
  {
   "cell_type": "markdown",
   "id": "c872e5a6",
   "metadata": {},
   "source": [
    "___\n",
    "### Expectation 5: Column Values To Not Be Null"
   ]
  },
  {
   "cell_type": "markdown",
   "id": "e0174037",
   "metadata": {},
   "source": [
    "Ekspektasi 'expect_column_values_to_not_be_null' diperlukan untuk mengecek atau memvalidasi apakah terdapat data hilang dalam suatu kolom atau tidak.\n",
    "\n",
    "Disini saya ingin mengecek apakah semua status 'Resigned' karyawan sudah terisi semua atau belum."
   ]
  },
  {
   "cell_type": "code",
   "execution_count": 14,
   "id": "e5377262",
   "metadata": {},
   "outputs": [
    {
     "data": {
      "application/vnd.jupyter.widget-view+json": {
       "model_id": "abd4f1cf92ae42a69f64895a8bc83e84",
       "version_major": 2,
       "version_minor": 0
      },
      "text/plain": [
       "Calculating Metrics:   0%|          | 0/6 [00:00<?, ?it/s]"
      ]
     },
     "metadata": {},
     "output_type": "display_data"
    },
    {
     "data": {
      "text/plain": [
       "{\n",
       "  \"success\": true,\n",
       "  \"result\": {\n",
       "    \"element_count\": 100000,\n",
       "    \"unexpected_count\": 0,\n",
       "    \"unexpected_percent\": 0.0,\n",
       "    \"partial_unexpected_list\": []\n",
       "  },\n",
       "  \"meta\": {},\n",
       "  \"exception_info\": {\n",
       "    \"raised_exception\": false,\n",
       "    \"exception_traceback\": null,\n",
       "    \"exception_message\": null\n",
       "  }\n",
       "}"
      ]
     },
     "execution_count": 14,
     "metadata": {},
     "output_type": "execute_result"
    }
   ],
   "source": [
    "# Expectation 5:\n",
    "# Check that the 'resigned' column has no null (missing) values.\n",
    "# Essential when this column is used as a target variable or in reporting.\n",
    "\n",
    "validator.expect_column_values_to_not_be_null(column=\"resigned\")"
   ]
  },
  {
   "cell_type": "markdown",
   "id": "78891725",
   "metadata": {},
   "source": [
    "Dalam pengecekan, betul bahwa semua karyawan sudah memiliki status 'Resigned' masing-masing.\n",
    "\n",
    "- Total pengecekan baris: 10.000 baris\n",
    "- Persentase tak terduga: 0,0%"
   ]
  },
  {
   "cell_type": "markdown",
   "id": "1a049424",
   "metadata": {},
   "source": [
    "___\n",
    "### Expectation 6: Table Column Count To Equal"
   ]
  },
  {
   "cell_type": "markdown",
   "id": "380546ca",
   "metadata": {},
   "source": [
    "Ekspektasi 'expect_table_column_count_to_equal' digunakan untuk mengecek atau memvalidasi apakah benar jumlah data karyawan yang sedang digunakan, benar berjumlah sekian kolom atau sekian data.\n",
    "\n",
    "Pada data ini, jumlah data karyawan yang seharusnya dimiliki adalah 20 tipe data atau 20 kolom data."
   ]
  },
  {
   "cell_type": "code",
   "execution_count": 15,
   "id": "fe21e3c6",
   "metadata": {},
   "outputs": [
    {
     "data": {
      "application/vnd.jupyter.widget-view+json": {
       "model_id": "074ed3527c864a92bae77ab4f7b97555",
       "version_major": 2,
       "version_minor": 0
      },
      "text/plain": [
       "Calculating Metrics:   0%|          | 0/3 [00:00<?, ?it/s]"
      ]
     },
     "metadata": {},
     "output_type": "display_data"
    },
    {
     "data": {
      "text/plain": [
       "{\n",
       "  \"success\": true,\n",
       "  \"result\": {\n",
       "    \"observed_value\": 20\n",
       "  },\n",
       "  \"meta\": {},\n",
       "  \"exception_info\": {\n",
       "    \"raised_exception\": false,\n",
       "    \"exception_traceback\": null,\n",
       "    \"exception_message\": null\n",
       "  }\n",
       "}"
      ]
     },
     "execution_count": 15,
     "metadata": {},
     "output_type": "execute_result"
    }
   ],
   "source": [
    "# Expectation 6:\n",
    "# Ensure the dataset has exactly 20 columns as expected by the schema.\n",
    "# This guards against structural changes in the dataset over time.\n",
    "\n",
    "validator.expect_table_column_count_to_equal(value=20)"
   ]
  },
  {
   "cell_type": "markdown",
   "id": "6297c133",
   "metadata": {},
   "source": [
    "Dalam pengecekan, betul bahwa data yang digunakan dalam observasi berjumlah 20 kolom data atau 20 tipe data karyawan.\n",
    "\n",
    "- Kolom yang diobservasi: 20 kolom"
   ]
  },
  {
   "cell_type": "markdown",
   "id": "59cc7b3d",
   "metadata": {},
   "source": [
    "___\n",
    "### Expectation 7: Column Values To Be Of Type"
   ]
  },
  {
   "cell_type": "markdown",
   "id": "8710f76b",
   "metadata": {},
   "source": [
    "Ekspektasi 'expect_column_values_to_be_of_type' digunakan disaat ingin memvalidasi tipe value dalam suatu kolom apakah sesuai kriteria atau tidak.\n",
    "\n",
    "Pada ekspektasi ini, saya ingin memvalidasi apakah data kolom gaji bulanan atau 'Monthly_Salary' berisikan nilai atau value bertipe 'float' atau tidak."
   ]
  },
  {
   "cell_type": "code",
   "execution_count": 16,
   "id": "42cd026e",
   "metadata": {},
   "outputs": [
    {
     "data": {
      "application/vnd.jupyter.widget-view+json": {
       "model_id": "5431c5eb7c9d4208ab17effc73b701ee",
       "version_major": 2,
       "version_minor": 0
      },
      "text/plain": [
       "Calculating Metrics:   0%|          | 0/1 [00:00<?, ?it/s]"
      ]
     },
     "metadata": {},
     "output_type": "display_data"
    },
    {
     "data": {
      "text/plain": [
       "{\n",
       "  \"success\": true,\n",
       "  \"result\": {\n",
       "    \"observed_value\": \"float64\"\n",
       "  },\n",
       "  \"meta\": {},\n",
       "  \"exception_info\": {\n",
       "    \"raised_exception\": false,\n",
       "    \"exception_traceback\": null,\n",
       "    \"exception_message\": null\n",
       "  }\n",
       "}"
      ]
     },
     "execution_count": 16,
     "metadata": {},
     "output_type": "execute_result"
    }
   ],
   "source": [
    "# Expectation 7:\n",
    "# Validate that values in the 'Monthly_Salary' column are of float data type.\n",
    "# Important for calculations, aggregations, and preventing type-related bugs.\n",
    "\n",
    "validator.expect_column_values_to_be_of_type(\n",
    "    column=\"monthly_salary\",\n",
    "    type_=\"float\"\n",
    ")"
   ]
  },
  {
   "cell_type": "markdown",
   "id": "e9221589",
   "metadata": {},
   "source": [
    "Dalam pengecekan, betul adanya bahwa data kolom gaji bulanan atau 'Monthly_Salary' berisikan nilai atau value bertipe 'float'.\n",
    "\n",
    "- Nilai data yang diobservasi: 'float 64'\n",
    "\n",
    "Setelah semua validasi data sudah dilakukan, maka selanjutnya adalah melakukan 'checkpoint' atau menyimpan semua ekspektasi yang sudah dilakukan dalam data."
   ]
  },
  {
   "cell_type": "markdown",
   "id": "97753046",
   "metadata": {},
   "source": [
    "___"
   ]
  },
  {
   "cell_type": "markdown",
   "id": "069f0215",
   "metadata": {},
   "source": [
    "## Checkpoint"
   ]
  },
  {
   "cell_type": "markdown",
   "id": "af2390ed",
   "metadata": {},
   "source": [
    "Checkpoints digunakan untuk:\n",
    "- Menyisipkan validasi data ke dalam DAG,\n",
    "- Memastikan kualitas data sebelum diproses lebih lanjut,\n",
    "- Menyimpan hasil validasi supaya bisa divisualisasikan atau dilihat kembali."
   ]
  },
  {
   "cell_type": "code",
   "execution_count": null,
   "id": "baaa8293",
   "metadata": {},
   "outputs": [],
   "source": [
    "# Create a checkpoint\n",
    "validator.save_expectation_suite(discard_failed_expectations=False)\n",
    "checkpoint_1 = context.add_or_update_checkpoint(\n",
    "    name = 'checkpoint_1',\n",
    "    validator = validator,\n",
    ")\n",
    "\n",
    "# Run a checkpoint\n",
    "checkpoint_result = checkpoint_1.run()"
   ]
  },
  {
   "cell_type": "markdown",
   "id": "37124516",
   "metadata": {},
   "source": [
    "Selanjutnya adalah membuat 'data docs'. Data Docs adalah auto-generated HTML documentation dari hasil validasi yang sudah dijalankan lewat checkpoint atau expectation suite. \n",
    "\n",
    "Great Expecation secara otomatis membuat visualisasi hasil validasi data yang lengkap dengan:\n",
    "- Status expectation (berhasil/gagal)\n",
    "- Statistik dataset\n",
    "- Link ke suite dan checkpoint\n",
    "- Metadata dan batch detail"
   ]
  },
  {
   "cell_type": "markdown",
   "id": "c16d7d2b",
   "metadata": {},
   "source": [
    "___"
   ]
  },
  {
   "cell_type": "markdown",
   "id": "c5855f85",
   "metadata": {},
   "source": [
    "## Data Docs"
   ]
  },
  {
   "cell_type": "code",
   "execution_count": 63,
   "id": "08a3340b",
   "metadata": {},
   "outputs": [
    {
     "data": {
      "text/plain": [
       "{'local_site': 'file://d:\\\\1. Data Science\\\\1. Bootcamp\\\\Fase 2\\\\hck028\\\\p2-ftds028-hck-m3-yonathanggraiwan\\\\gx\\\\uncommitted/data_docs/local_site/index.html'}"
      ]
     },
     "execution_count": 63,
     "metadata": {},
     "output_type": "execute_result"
    }
   ],
   "source": [
    "# Build data docs\n",
    "\n",
    "context.build_data_docs()"
   ]
  },
  {
   "cell_type": "markdown",
   "id": "bd9f3302",
   "metadata": {},
   "source": [
    "Sesi great expectation sudah selesai, lanjut ke sesi visualisasi data menggunakan kibana dalam elasticsearch."
   ]
  },
  {
   "cell_type": "markdown",
   "id": "b2a3c66e",
   "metadata": {},
   "source": [
    "___"
   ]
  }
 ],
 "metadata": {
  "kernelspec": {
   "display_name": "my_env",
   "language": "python",
   "name": "python3"
  },
  "language_info": {
   "codemirror_mode": {
    "name": "ipython",
    "version": 3
   },
   "file_extension": ".py",
   "mimetype": "text/x-python",
   "name": "python",
   "nbconvert_exporter": "python",
   "pygments_lexer": "ipython3",
   "version": "3.10.18"
  }
 },
 "nbformat": 4,
 "nbformat_minor": 5
}
