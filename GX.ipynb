{
 "cells": [
  {
   "cell_type": "markdown",
   "id": "85d15037",
   "metadata": {},
   "source": [
    "# Optimizing Employee Performance With End-to-End HR Analytics Data Pipeline\n",
    "___\n",
    "\n",
    "## Introduction\n",
    "Name  : Yonathan Anggraiwan\n",
    "\n",
    "This program was designed to implement an end-to-end data pipeline from PostgreSQL to ElasticSearch, utilizing an employee performance and productivity dataset sourced from [Kaggle](https://www.kaggle.com/datasets/mexwell/employee-performance-and-productivity-data). \n",
    "\n",
    "The project also includes data validation using the Great Expectations framework, and the results are presented through an interactive dashboard built with Kibana.\n",
    "___"
   ]
  },
  {
   "cell_type": "markdown",
   "id": "7e7fe7ee",
   "metadata": {},
   "source": [
    "## Loading Package"
   ]
  },
  {
   "cell_type": "code",
   "execution_count": 1,
   "id": "bbfa50f2",
   "metadata": {},
   "outputs": [],
   "source": [
    "import pandas as pd\n",
    "from great_expectations.data_context import FileDataContext"
   ]
  },
  {
   "cell_type": "markdown",
   "id": "e7ee24b1",
   "metadata": {},
   "source": [
    "___\n",
    "## Loading Clean Data"
   ]
  },
  {
   "cell_type": "markdown",
   "id": "c8ef1b2d",
   "metadata": {},
   "source": [
    "The dataset used is an employee performance and productivity dataset sourced from [Kaggle](https://www.kaggle.com/datasets/mexwell/employee-performance-and-productivity-data). I will be conducting further exploratory analysis on this dataset to uncover deeper insights."
   ]
  },
  {
   "cell_type": "code",
   "execution_count": null,
   "id": "5f1652bd",
   "metadata": {},
   "outputs": [
    {
     "data": {
      "text/html": [
       "<div>\n",
       "<style scoped>\n",
       "    .dataframe tbody tr th:only-of-type {\n",
       "        vertical-align: middle;\n",
       "    }\n",
       "\n",
       "    .dataframe tbody tr th {\n",
       "        vertical-align: top;\n",
       "    }\n",
       "\n",
       "    .dataframe thead th {\n",
       "        text-align: right;\n",
       "    }\n",
       "</style>\n",
       "<table border=\"1\" class=\"dataframe\">\n",
       "  <thead>\n",
       "    <tr style=\"text-align: right;\">\n",
       "      <th></th>\n",
       "      <th>employee_id</th>\n",
       "      <th>department</th>\n",
       "      <th>gender</th>\n",
       "      <th>age</th>\n",
       "      <th>job_title</th>\n",
       "      <th>hire_date</th>\n",
       "      <th>years_at_company</th>\n",
       "      <th>education_level</th>\n",
       "      <th>performance_score</th>\n",
       "      <th>monthly_salary</th>\n",
       "      <th>...</th>\n",
       "      <th>projects_handled</th>\n",
       "      <th>overtime_hours</th>\n",
       "      <th>sick_days</th>\n",
       "      <th>remote_work_frequency</th>\n",
       "      <th>team_size</th>\n",
       "      <th>training_hours</th>\n",
       "      <th>promotions</th>\n",
       "      <th>employee_satisfaction_score</th>\n",
       "      <th>resigned</th>\n",
       "      <th>age_cap</th>\n",
       "    </tr>\n",
       "  </thead>\n",
       "  <tbody>\n",
       "    <tr>\n",
       "      <th>0</th>\n",
       "      <td>1</td>\n",
       "      <td>IT</td>\n",
       "      <td>Male</td>\n",
       "      <td>55</td>\n",
       "      <td>Specialist</td>\n",
       "      <td>2022-01-19</td>\n",
       "      <td>2</td>\n",
       "      <td>High School</td>\n",
       "      <td>5</td>\n",
       "      <td>6750.0</td>\n",
       "      <td>...</td>\n",
       "      <td>32</td>\n",
       "      <td>22</td>\n",
       "      <td>2</td>\n",
       "      <td>0</td>\n",
       "      <td>14</td>\n",
       "      <td>66</td>\n",
       "      <td>0</td>\n",
       "      <td>2.63</td>\n",
       "      <td>False</td>\n",
       "      <td>Middle-Aged</td>\n",
       "    </tr>\n",
       "    <tr>\n",
       "      <th>1</th>\n",
       "      <td>2</td>\n",
       "      <td>Finance</td>\n",
       "      <td>Male</td>\n",
       "      <td>29</td>\n",
       "      <td>Developer</td>\n",
       "      <td>2024-04-18</td>\n",
       "      <td>0</td>\n",
       "      <td>High School</td>\n",
       "      <td>5</td>\n",
       "      <td>7500.0</td>\n",
       "      <td>...</td>\n",
       "      <td>34</td>\n",
       "      <td>13</td>\n",
       "      <td>14</td>\n",
       "      <td>100</td>\n",
       "      <td>12</td>\n",
       "      <td>61</td>\n",
       "      <td>2</td>\n",
       "      <td>1.72</td>\n",
       "      <td>False</td>\n",
       "      <td>Young</td>\n",
       "    </tr>\n",
       "    <tr>\n",
       "      <th>2</th>\n",
       "      <td>3</td>\n",
       "      <td>Finance</td>\n",
       "      <td>Male</td>\n",
       "      <td>55</td>\n",
       "      <td>Specialist</td>\n",
       "      <td>2015-10-26</td>\n",
       "      <td>8</td>\n",
       "      <td>High School</td>\n",
       "      <td>3</td>\n",
       "      <td>5850.0</td>\n",
       "      <td>...</td>\n",
       "      <td>27</td>\n",
       "      <td>6</td>\n",
       "      <td>3</td>\n",
       "      <td>50</td>\n",
       "      <td>10</td>\n",
       "      <td>1</td>\n",
       "      <td>0</td>\n",
       "      <td>3.17</td>\n",
       "      <td>False</td>\n",
       "      <td>Middle-Aged</td>\n",
       "    </tr>\n",
       "    <tr>\n",
       "      <th>3</th>\n",
       "      <td>4</td>\n",
       "      <td>Customer Support</td>\n",
       "      <td>Female</td>\n",
       "      <td>48</td>\n",
       "      <td>Analyst</td>\n",
       "      <td>2016-10-22</td>\n",
       "      <td>7</td>\n",
       "      <td>Bachelor</td>\n",
       "      <td>2</td>\n",
       "      <td>4800.0</td>\n",
       "      <td>...</td>\n",
       "      <td>10</td>\n",
       "      <td>28</td>\n",
       "      <td>12</td>\n",
       "      <td>100</td>\n",
       "      <td>10</td>\n",
       "      <td>0</td>\n",
       "      <td>1</td>\n",
       "      <td>1.86</td>\n",
       "      <td>False</td>\n",
       "      <td>Middle-Aged</td>\n",
       "    </tr>\n",
       "    <tr>\n",
       "      <th>4</th>\n",
       "      <td>5</td>\n",
       "      <td>Engineering</td>\n",
       "      <td>Female</td>\n",
       "      <td>36</td>\n",
       "      <td>Analyst</td>\n",
       "      <td>2021-07-23</td>\n",
       "      <td>3</td>\n",
       "      <td>Bachelor</td>\n",
       "      <td>2</td>\n",
       "      <td>4800.0</td>\n",
       "      <td>...</td>\n",
       "      <td>11</td>\n",
       "      <td>29</td>\n",
       "      <td>13</td>\n",
       "      <td>100</td>\n",
       "      <td>15</td>\n",
       "      <td>9</td>\n",
       "      <td>1</td>\n",
       "      <td>1.25</td>\n",
       "      <td>False</td>\n",
       "      <td>Adult</td>\n",
       "    </tr>\n",
       "    <tr>\n",
       "      <th>...</th>\n",
       "      <td>...</td>\n",
       "      <td>...</td>\n",
       "      <td>...</td>\n",
       "      <td>...</td>\n",
       "      <td>...</td>\n",
       "      <td>...</td>\n",
       "      <td>...</td>\n",
       "      <td>...</td>\n",
       "      <td>...</td>\n",
       "      <td>...</td>\n",
       "      <td>...</td>\n",
       "      <td>...</td>\n",
       "      <td>...</td>\n",
       "      <td>...</td>\n",
       "      <td>...</td>\n",
       "      <td>...</td>\n",
       "      <td>...</td>\n",
       "      <td>...</td>\n",
       "      <td>...</td>\n",
       "      <td>...</td>\n",
       "      <td>...</td>\n",
       "    </tr>\n",
       "    <tr>\n",
       "      <th>99995</th>\n",
       "      <td>99996</td>\n",
       "      <td>Finance</td>\n",
       "      <td>Male</td>\n",
       "      <td>27</td>\n",
       "      <td>Technician</td>\n",
       "      <td>2022-12-07</td>\n",
       "      <td>1</td>\n",
       "      <td>Bachelor</td>\n",
       "      <td>4</td>\n",
       "      <td>4900.0</td>\n",
       "      <td>...</td>\n",
       "      <td>46</td>\n",
       "      <td>5</td>\n",
       "      <td>3</td>\n",
       "      <td>75</td>\n",
       "      <td>16</td>\n",
       "      <td>48</td>\n",
       "      <td>2</td>\n",
       "      <td>1.28</td>\n",
       "      <td>False</td>\n",
       "      <td>Young</td>\n",
       "    </tr>\n",
       "    <tr>\n",
       "      <th>99996</th>\n",
       "      <td>99997</td>\n",
       "      <td>IT</td>\n",
       "      <td>Female</td>\n",
       "      <td>36</td>\n",
       "      <td>Consultant</td>\n",
       "      <td>2018-07-24</td>\n",
       "      <td>6</td>\n",
       "      <td>Master</td>\n",
       "      <td>5</td>\n",
       "      <td>8250.0</td>\n",
       "      <td>...</td>\n",
       "      <td>35</td>\n",
       "      <td>7</td>\n",
       "      <td>0</td>\n",
       "      <td>0</td>\n",
       "      <td>10</td>\n",
       "      <td>77</td>\n",
       "      <td>1</td>\n",
       "      <td>3.48</td>\n",
       "      <td>True</td>\n",
       "      <td>Adult</td>\n",
       "    </tr>\n",
       "    <tr>\n",
       "      <th>99997</th>\n",
       "      <td>99998</td>\n",
       "      <td>Operations</td>\n",
       "      <td>Male</td>\n",
       "      <td>53</td>\n",
       "      <td>Analyst</td>\n",
       "      <td>2015-11-24</td>\n",
       "      <td>8</td>\n",
       "      <td>High School</td>\n",
       "      <td>2</td>\n",
       "      <td>4800.0</td>\n",
       "      <td>...</td>\n",
       "      <td>13</td>\n",
       "      <td>6</td>\n",
       "      <td>5</td>\n",
       "      <td>0</td>\n",
       "      <td>5</td>\n",
       "      <td>87</td>\n",
       "      <td>1</td>\n",
       "      <td>2.60</td>\n",
       "      <td>False</td>\n",
       "      <td>Middle-Aged</td>\n",
       "    </tr>\n",
       "    <tr>\n",
       "      <th>99998</th>\n",
       "      <td>99999</td>\n",
       "      <td>HR</td>\n",
       "      <td>Female</td>\n",
       "      <td>22</td>\n",
       "      <td>Consultant</td>\n",
       "      <td>2015-08-03</td>\n",
       "      <td>9</td>\n",
       "      <td>High School</td>\n",
       "      <td>5</td>\n",
       "      <td>8250.0</td>\n",
       "      <td>...</td>\n",
       "      <td>43</td>\n",
       "      <td>10</td>\n",
       "      <td>1</td>\n",
       "      <td>75</td>\n",
       "      <td>2</td>\n",
       "      <td>31</td>\n",
       "      <td>1</td>\n",
       "      <td>3.10</td>\n",
       "      <td>False</td>\n",
       "      <td>Young</td>\n",
       "    </tr>\n",
       "    <tr>\n",
       "      <th>99999</th>\n",
       "      <td>100000</td>\n",
       "      <td>Finance</td>\n",
       "      <td>Female</td>\n",
       "      <td>43</td>\n",
       "      <td>Analyst</td>\n",
       "      <td>2024-03-04</td>\n",
       "      <td>0</td>\n",
       "      <td>PhD</td>\n",
       "      <td>1</td>\n",
       "      <td>4400.0</td>\n",
       "      <td>...</td>\n",
       "      <td>43</td>\n",
       "      <td>27</td>\n",
       "      <td>11</td>\n",
       "      <td>75</td>\n",
       "      <td>13</td>\n",
       "      <td>45</td>\n",
       "      <td>1</td>\n",
       "      <td>2.64</td>\n",
       "      <td>False</td>\n",
       "      <td>Adult</td>\n",
       "    </tr>\n",
       "  </tbody>\n",
       "</table>\n",
       "<p>100000 rows × 21 columns</p>\n",
       "</div>"
      ],
      "text/plain": [
       "       employee_id        department  gender  age   job_title   hire_date  \\\n",
       "0                1                IT    Male   55  Specialist  2022-01-19   \n",
       "1                2           Finance    Male   29   Developer  2024-04-18   \n",
       "2                3           Finance    Male   55  Specialist  2015-10-26   \n",
       "3                4  Customer Support  Female   48     Analyst  2016-10-22   \n",
       "4                5       Engineering  Female   36     Analyst  2021-07-23   \n",
       "...            ...               ...     ...  ...         ...         ...   \n",
       "99995        99996           Finance    Male   27  Technician  2022-12-07   \n",
       "99996        99997                IT  Female   36  Consultant  2018-07-24   \n",
       "99997        99998        Operations    Male   53     Analyst  2015-11-24   \n",
       "99998        99999                HR  Female   22  Consultant  2015-08-03   \n",
       "99999       100000           Finance  Female   43     Analyst  2024-03-04   \n",
       "\n",
       "       years_at_company education_level  performance_score  monthly_salary  \\\n",
       "0                     2     High School                  5          6750.0   \n",
       "1                     0     High School                  5          7500.0   \n",
       "2                     8     High School                  3          5850.0   \n",
       "3                     7        Bachelor                  2          4800.0   \n",
       "4                     3        Bachelor                  2          4800.0   \n",
       "...                 ...             ...                ...             ...   \n",
       "99995                 1        Bachelor                  4          4900.0   \n",
       "99996                 6          Master                  5          8250.0   \n",
       "99997                 8     High School                  2          4800.0   \n",
       "99998                 9     High School                  5          8250.0   \n",
       "99999                 0             PhD                  1          4400.0   \n",
       "\n",
       "       ...  projects_handled  overtime_hours  sick_days  \\\n",
       "0      ...                32              22          2   \n",
       "1      ...                34              13         14   \n",
       "2      ...                27               6          3   \n",
       "3      ...                10              28         12   \n",
       "4      ...                11              29         13   \n",
       "...    ...               ...             ...        ...   \n",
       "99995  ...                46               5          3   \n",
       "99996  ...                35               7          0   \n",
       "99997  ...                13               6          5   \n",
       "99998  ...                43              10          1   \n",
       "99999  ...                43              27         11   \n",
       "\n",
       "       remote_work_frequency  team_size  training_hours  promotions  \\\n",
       "0                          0         14              66           0   \n",
       "1                        100         12              61           2   \n",
       "2                         50         10               1           0   \n",
       "3                        100         10               0           1   \n",
       "4                        100         15               9           1   \n",
       "...                      ...        ...             ...         ...   \n",
       "99995                     75         16              48           2   \n",
       "99996                      0         10              77           1   \n",
       "99997                      0          5              87           1   \n",
       "99998                     75          2              31           1   \n",
       "99999                     75         13              45           1   \n",
       "\n",
       "       employee_satisfaction_score  resigned      age_cap  \n",
       "0                             2.63     False  Middle-Aged  \n",
       "1                             1.72     False        Young  \n",
       "2                             3.17     False  Middle-Aged  \n",
       "3                             1.86     False  Middle-Aged  \n",
       "4                             1.25     False        Adult  \n",
       "...                            ...       ...          ...  \n",
       "99995                         1.28     False        Young  \n",
       "99996                         3.48      True        Adult  \n",
       "99997                         2.60     False  Middle-Aged  \n",
       "99998                         3.10     False        Young  \n",
       "99999                         2.64     False        Adult  \n",
       "\n",
       "[100000 rows x 21 columns]"
      ]
     },
     "execution_count": 2,
     "metadata": {},
     "output_type": "execute_result"
    }
   ],
   "source": [
    "df = pd.read_csv(\"dags/data_clean.csv\")\n",
    "df"
   ]
  },
  {
   "cell_type": "code",
   "execution_count": 3,
   "id": "30f9c80d",
   "metadata": {},
   "outputs": [
    {
     "data": {
      "text/html": [
       "<div>\n",
       "<style scoped>\n",
       "    .dataframe tbody tr th:only-of-type {\n",
       "        vertical-align: middle;\n",
       "    }\n",
       "\n",
       "    .dataframe tbody tr th {\n",
       "        vertical-align: top;\n",
       "    }\n",
       "\n",
       "    .dataframe thead th {\n",
       "        text-align: right;\n",
       "    }\n",
       "</style>\n",
       "<table border=\"1\" class=\"dataframe\">\n",
       "  <thead>\n",
       "    <tr style=\"text-align: right;\">\n",
       "      <th></th>\n",
       "      <th>employee_id</th>\n",
       "      <th>age</th>\n",
       "      <th>years_at_company</th>\n",
       "      <th>performance_score</th>\n",
       "      <th>monthly_salary</th>\n",
       "      <th>work_hours_per_week</th>\n",
       "      <th>projects_handled</th>\n",
       "      <th>overtime_hours</th>\n",
       "      <th>sick_days</th>\n",
       "      <th>remote_work_frequency</th>\n",
       "      <th>team_size</th>\n",
       "      <th>training_hours</th>\n",
       "      <th>promotions</th>\n",
       "      <th>employee_satisfaction_score</th>\n",
       "    </tr>\n",
       "  </thead>\n",
       "  <tbody>\n",
       "    <tr>\n",
       "      <th>count</th>\n",
       "      <td>100000.000000</td>\n",
       "      <td>100000.000000</td>\n",
       "      <td>100000.000000</td>\n",
       "      <td>100000.000000</td>\n",
       "      <td>100000.000000</td>\n",
       "      <td>100000.000000</td>\n",
       "      <td>100000.000000</td>\n",
       "      <td>100000.000000</td>\n",
       "      <td>100000.000000</td>\n",
       "      <td>100000.000000</td>\n",
       "      <td>100000.000000</td>\n",
       "      <td>100000.000000</td>\n",
       "      <td>100000.000000</td>\n",
       "      <td>100000.000000</td>\n",
       "    </tr>\n",
       "    <tr>\n",
       "      <th>mean</th>\n",
       "      <td>50000.500000</td>\n",
       "      <td>41.029410</td>\n",
       "      <td>4.476070</td>\n",
       "      <td>2.995430</td>\n",
       "      <td>6403.211000</td>\n",
       "      <td>44.956950</td>\n",
       "      <td>24.431170</td>\n",
       "      <td>14.514930</td>\n",
       "      <td>7.008550</td>\n",
       "      <td>50.090500</td>\n",
       "      <td>10.013560</td>\n",
       "      <td>49.506060</td>\n",
       "      <td>0.999720</td>\n",
       "      <td>2.999088</td>\n",
       "    </tr>\n",
       "    <tr>\n",
       "      <th>std</th>\n",
       "      <td>28867.657797</td>\n",
       "      <td>11.244121</td>\n",
       "      <td>2.869336</td>\n",
       "      <td>1.414726</td>\n",
       "      <td>1372.508717</td>\n",
       "      <td>8.942003</td>\n",
       "      <td>14.469584</td>\n",
       "      <td>8.664026</td>\n",
       "      <td>4.331591</td>\n",
       "      <td>35.351157</td>\n",
       "      <td>5.495405</td>\n",
       "      <td>28.890383</td>\n",
       "      <td>0.815872</td>\n",
       "      <td>1.150719</td>\n",
       "    </tr>\n",
       "    <tr>\n",
       "      <th>min</th>\n",
       "      <td>1.000000</td>\n",
       "      <td>22.000000</td>\n",
       "      <td>0.000000</td>\n",
       "      <td>1.000000</td>\n",
       "      <td>3850.000000</td>\n",
       "      <td>30.000000</td>\n",
       "      <td>0.000000</td>\n",
       "      <td>0.000000</td>\n",
       "      <td>0.000000</td>\n",
       "      <td>0.000000</td>\n",
       "      <td>1.000000</td>\n",
       "      <td>0.000000</td>\n",
       "      <td>0.000000</td>\n",
       "      <td>1.000000</td>\n",
       "    </tr>\n",
       "    <tr>\n",
       "      <th>25%</th>\n",
       "      <td>25000.750000</td>\n",
       "      <td>31.000000</td>\n",
       "      <td>2.000000</td>\n",
       "      <td>2.000000</td>\n",
       "      <td>5250.000000</td>\n",
       "      <td>37.000000</td>\n",
       "      <td>12.000000</td>\n",
       "      <td>7.000000</td>\n",
       "      <td>3.000000</td>\n",
       "      <td>25.000000</td>\n",
       "      <td>5.000000</td>\n",
       "      <td>25.000000</td>\n",
       "      <td>0.000000</td>\n",
       "      <td>2.010000</td>\n",
       "    </tr>\n",
       "    <tr>\n",
       "      <th>50%</th>\n",
       "      <td>50000.500000</td>\n",
       "      <td>41.000000</td>\n",
       "      <td>4.000000</td>\n",
       "      <td>3.000000</td>\n",
       "      <td>6500.000000</td>\n",
       "      <td>45.000000</td>\n",
       "      <td>24.000000</td>\n",
       "      <td>15.000000</td>\n",
       "      <td>7.000000</td>\n",
       "      <td>50.000000</td>\n",
       "      <td>10.000000</td>\n",
       "      <td>49.000000</td>\n",
       "      <td>1.000000</td>\n",
       "      <td>3.000000</td>\n",
       "    </tr>\n",
       "    <tr>\n",
       "      <th>75%</th>\n",
       "      <td>75000.250000</td>\n",
       "      <td>51.000000</td>\n",
       "      <td>7.000000</td>\n",
       "      <td>4.000000</td>\n",
       "      <td>7500.000000</td>\n",
       "      <td>53.000000</td>\n",
       "      <td>37.000000</td>\n",
       "      <td>22.000000</td>\n",
       "      <td>11.000000</td>\n",
       "      <td>75.000000</td>\n",
       "      <td>15.000000</td>\n",
       "      <td>75.000000</td>\n",
       "      <td>2.000000</td>\n",
       "      <td>3.990000</td>\n",
       "    </tr>\n",
       "    <tr>\n",
       "      <th>max</th>\n",
       "      <td>100000.000000</td>\n",
       "      <td>60.000000</td>\n",
       "      <td>10.000000</td>\n",
       "      <td>5.000000</td>\n",
       "      <td>9000.000000</td>\n",
       "      <td>60.000000</td>\n",
       "      <td>49.000000</td>\n",
       "      <td>29.000000</td>\n",
       "      <td>14.000000</td>\n",
       "      <td>100.000000</td>\n",
       "      <td>19.000000</td>\n",
       "      <td>99.000000</td>\n",
       "      <td>2.000000</td>\n",
       "      <td>5.000000</td>\n",
       "    </tr>\n",
       "  </tbody>\n",
       "</table>\n",
       "</div>"
      ],
      "text/plain": [
       "         employee_id            age  years_at_company  performance_score  \\\n",
       "count  100000.000000  100000.000000     100000.000000      100000.000000   \n",
       "mean    50000.500000      41.029410          4.476070           2.995430   \n",
       "std     28867.657797      11.244121          2.869336           1.414726   \n",
       "min         1.000000      22.000000          0.000000           1.000000   \n",
       "25%     25000.750000      31.000000          2.000000           2.000000   \n",
       "50%     50000.500000      41.000000          4.000000           3.000000   \n",
       "75%     75000.250000      51.000000          7.000000           4.000000   \n",
       "max    100000.000000      60.000000         10.000000           5.000000   \n",
       "\n",
       "       monthly_salary  work_hours_per_week  projects_handled  overtime_hours  \\\n",
       "count   100000.000000        100000.000000     100000.000000   100000.000000   \n",
       "mean      6403.211000            44.956950         24.431170       14.514930   \n",
       "std       1372.508717             8.942003         14.469584        8.664026   \n",
       "min       3850.000000            30.000000          0.000000        0.000000   \n",
       "25%       5250.000000            37.000000         12.000000        7.000000   \n",
       "50%       6500.000000            45.000000         24.000000       15.000000   \n",
       "75%       7500.000000            53.000000         37.000000       22.000000   \n",
       "max       9000.000000            60.000000         49.000000       29.000000   \n",
       "\n",
       "           sick_days  remote_work_frequency      team_size  training_hours  \\\n",
       "count  100000.000000          100000.000000  100000.000000   100000.000000   \n",
       "mean        7.008550              50.090500      10.013560       49.506060   \n",
       "std         4.331591              35.351157       5.495405       28.890383   \n",
       "min         0.000000               0.000000       1.000000        0.000000   \n",
       "25%         3.000000              25.000000       5.000000       25.000000   \n",
       "50%         7.000000              50.000000      10.000000       49.000000   \n",
       "75%        11.000000              75.000000      15.000000       75.000000   \n",
       "max        14.000000             100.000000      19.000000       99.000000   \n",
       "\n",
       "          promotions  employee_satisfaction_score  \n",
       "count  100000.000000                100000.000000  \n",
       "mean        0.999720                     2.999088  \n",
       "std         0.815872                     1.150719  \n",
       "min         0.000000                     1.000000  \n",
       "25%         0.000000                     2.010000  \n",
       "50%         1.000000                     3.000000  \n",
       "75%         2.000000                     3.990000  \n",
       "max         2.000000                     5.000000  "
      ]
     },
     "execution_count": 3,
     "metadata": {},
     "output_type": "execute_result"
    }
   ],
   "source": [
    "df.describe()"
   ]
  },
  {
   "cell_type": "markdown",
   "id": "30f2085d",
   "metadata": {},
   "source": [
    "___\n",
    "## Great Expectations Section"
   ]
  },
  {
   "cell_type": "markdown",
   "id": "962dc45b",
   "metadata": {},
   "source": [
    "In Great Expectations (GE), the first step is to establish the data context by defining the dataset being processed, assigning it a clear name, and configuring its storage location. These preparations ensure that the data is ready for validation using the Great Expectations validator."
   ]
  },
  {
   "cell_type": "code",
   "execution_count": 4,
   "id": "a9b88c00",
   "metadata": {},
   "outputs": [],
   "source": [
    "# Create a data context\n",
    "context = FileDataContext.create(project_root_dir='./')"
   ]
  },
  {
   "cell_type": "code",
   "execution_count": 6,
   "id": "6ed4ebd1",
   "metadata": {},
   "outputs": [],
   "source": [
    "# Give a name to a Datasource. This name must be unique between Datasources.\n",
    "datasource_name = 'csv-data-ms3-1.3'\n",
    "datasource = context.sources.add_pandas(datasource_name)\n",
    "\n",
    "# Give a name to a data asset\n",
    "asset_name = 'ms3'\n",
    "path_to_data = r'D:\\1. Data Science\\1. Bootcamp\\Fase 2\\hck028\\p2-ftds028-hck-m3-yonathanggraiwan\\dags\\P2M3_Yonathan_Anggraiwan_data_clean.csv'\n",
    "asset = datasource.add_csv_asset(asset_name, filepath_or_buffer=path_to_data)\n",
    "\n",
    "# Build batch request\n",
    "batch_request = asset.build_batch_request()"
   ]
  },
  {
   "cell_type": "code",
   "execution_count": 7,
   "id": "0012a638",
   "metadata": {},
   "outputs": [
    {
     "data": {
      "application/vnd.jupyter.widget-view+json": {
       "model_id": "66b8ca3a3e414c61a4c26c9e87829c88",
       "version_major": 2,
       "version_minor": 0
      },
      "text/plain": [
       "Calculating Metrics:   0%|          | 0/1 [00:00<?, ?it/s]"
      ]
     },
     "metadata": {},
     "output_type": "display_data"
    },
    {
     "data": {
      "text/html": [
       "<div>\n",
       "<style scoped>\n",
       "    .dataframe tbody tr th:only-of-type {\n",
       "        vertical-align: middle;\n",
       "    }\n",
       "\n",
       "    .dataframe tbody tr th {\n",
       "        vertical-align: top;\n",
       "    }\n",
       "\n",
       "    .dataframe thead th {\n",
       "        text-align: right;\n",
       "    }\n",
       "</style>\n",
       "<table border=\"1\" class=\"dataframe\">\n",
       "  <thead>\n",
       "    <tr style=\"text-align: right;\">\n",
       "      <th></th>\n",
       "      <th>employee_id</th>\n",
       "      <th>department</th>\n",
       "      <th>gender</th>\n",
       "      <th>age</th>\n",
       "      <th>job_title</th>\n",
       "      <th>hire_date</th>\n",
       "      <th>years_at_company</th>\n",
       "      <th>education_level</th>\n",
       "      <th>performance_score</th>\n",
       "      <th>monthly_salary</th>\n",
       "      <th>...</th>\n",
       "      <th>projects_handled</th>\n",
       "      <th>overtime_hours</th>\n",
       "      <th>sick_days</th>\n",
       "      <th>remote_work_frequency</th>\n",
       "      <th>team_size</th>\n",
       "      <th>training_hours</th>\n",
       "      <th>promotions</th>\n",
       "      <th>employee_satisfaction_score</th>\n",
       "      <th>resigned</th>\n",
       "      <th>age_cap</th>\n",
       "    </tr>\n",
       "  </thead>\n",
       "  <tbody>\n",
       "    <tr>\n",
       "      <th>0</th>\n",
       "      <td>1</td>\n",
       "      <td>IT</td>\n",
       "      <td>Male</td>\n",
       "      <td>55</td>\n",
       "      <td>Specialist</td>\n",
       "      <td>2022-01-19</td>\n",
       "      <td>2</td>\n",
       "      <td>High School</td>\n",
       "      <td>5</td>\n",
       "      <td>6750.0</td>\n",
       "      <td>...</td>\n",
       "      <td>32</td>\n",
       "      <td>22</td>\n",
       "      <td>2</td>\n",
       "      <td>0</td>\n",
       "      <td>14</td>\n",
       "      <td>66</td>\n",
       "      <td>0</td>\n",
       "      <td>2.63</td>\n",
       "      <td>False</td>\n",
       "      <td>Middle-Aged</td>\n",
       "    </tr>\n",
       "    <tr>\n",
       "      <th>1</th>\n",
       "      <td>2</td>\n",
       "      <td>Finance</td>\n",
       "      <td>Male</td>\n",
       "      <td>29</td>\n",
       "      <td>Developer</td>\n",
       "      <td>2024-04-18</td>\n",
       "      <td>0</td>\n",
       "      <td>High School</td>\n",
       "      <td>5</td>\n",
       "      <td>7500.0</td>\n",
       "      <td>...</td>\n",
       "      <td>34</td>\n",
       "      <td>13</td>\n",
       "      <td>14</td>\n",
       "      <td>100</td>\n",
       "      <td>12</td>\n",
       "      <td>61</td>\n",
       "      <td>2</td>\n",
       "      <td>1.72</td>\n",
       "      <td>False</td>\n",
       "      <td>Young</td>\n",
       "    </tr>\n",
       "    <tr>\n",
       "      <th>2</th>\n",
       "      <td>3</td>\n",
       "      <td>Finance</td>\n",
       "      <td>Male</td>\n",
       "      <td>55</td>\n",
       "      <td>Specialist</td>\n",
       "      <td>2015-10-26</td>\n",
       "      <td>8</td>\n",
       "      <td>High School</td>\n",
       "      <td>3</td>\n",
       "      <td>5850.0</td>\n",
       "      <td>...</td>\n",
       "      <td>27</td>\n",
       "      <td>6</td>\n",
       "      <td>3</td>\n",
       "      <td>50</td>\n",
       "      <td>10</td>\n",
       "      <td>1</td>\n",
       "      <td>0</td>\n",
       "      <td>3.17</td>\n",
       "      <td>False</td>\n",
       "      <td>Middle-Aged</td>\n",
       "    </tr>\n",
       "    <tr>\n",
       "      <th>3</th>\n",
       "      <td>4</td>\n",
       "      <td>Customer Support</td>\n",
       "      <td>Female</td>\n",
       "      <td>48</td>\n",
       "      <td>Analyst</td>\n",
       "      <td>2016-10-22</td>\n",
       "      <td>7</td>\n",
       "      <td>Bachelor</td>\n",
       "      <td>2</td>\n",
       "      <td>4800.0</td>\n",
       "      <td>...</td>\n",
       "      <td>10</td>\n",
       "      <td>28</td>\n",
       "      <td>12</td>\n",
       "      <td>100</td>\n",
       "      <td>10</td>\n",
       "      <td>0</td>\n",
       "      <td>1</td>\n",
       "      <td>1.86</td>\n",
       "      <td>False</td>\n",
       "      <td>Middle-Aged</td>\n",
       "    </tr>\n",
       "    <tr>\n",
       "      <th>4</th>\n",
       "      <td>5</td>\n",
       "      <td>Engineering</td>\n",
       "      <td>Female</td>\n",
       "      <td>36</td>\n",
       "      <td>Analyst</td>\n",
       "      <td>2021-07-23</td>\n",
       "      <td>3</td>\n",
       "      <td>Bachelor</td>\n",
       "      <td>2</td>\n",
       "      <td>4800.0</td>\n",
       "      <td>...</td>\n",
       "      <td>11</td>\n",
       "      <td>29</td>\n",
       "      <td>13</td>\n",
       "      <td>100</td>\n",
       "      <td>15</td>\n",
       "      <td>9</td>\n",
       "      <td>1</td>\n",
       "      <td>1.25</td>\n",
       "      <td>False</td>\n",
       "      <td>Adult</td>\n",
       "    </tr>\n",
       "  </tbody>\n",
       "</table>\n",
       "<p>5 rows × 21 columns</p>\n",
       "</div>"
      ],
      "text/plain": [
       "   employee_id        department  gender  age   job_title   hire_date  \\\n",
       "0            1                IT    Male   55  Specialist  2022-01-19   \n",
       "1            2           Finance    Male   29   Developer  2024-04-18   \n",
       "2            3           Finance    Male   55  Specialist  2015-10-26   \n",
       "3            4  Customer Support  Female   48     Analyst  2016-10-22   \n",
       "4            5       Engineering  Female   36     Analyst  2021-07-23   \n",
       "\n",
       "   years_at_company education_level  performance_score  monthly_salary  ...  \\\n",
       "0                 2     High School                  5          6750.0  ...   \n",
       "1                 0     High School                  5          7500.0  ...   \n",
       "2                 8     High School                  3          5850.0  ...   \n",
       "3                 7        Bachelor                  2          4800.0  ...   \n",
       "4                 3        Bachelor                  2          4800.0  ...   \n",
       "\n",
       "   projects_handled  overtime_hours  sick_days  remote_work_frequency  \\\n",
       "0                32              22          2                      0   \n",
       "1                34              13         14                    100   \n",
       "2                27               6          3                     50   \n",
       "3                10              28         12                    100   \n",
       "4                11              29         13                    100   \n",
       "\n",
       "   team_size  training_hours  promotions  employee_satisfaction_score  \\\n",
       "0         14              66           0                         2.63   \n",
       "1         12              61           2                         1.72   \n",
       "2         10               1           0                         3.17   \n",
       "3         10               0           1                         1.86   \n",
       "4         15               9           1                         1.25   \n",
       "\n",
       "   resigned      age_cap  \n",
       "0     False  Middle-Aged  \n",
       "1     False        Young  \n",
       "2     False  Middle-Aged  \n",
       "3     False  Middle-Aged  \n",
       "4     False        Adult  \n",
       "\n",
       "[5 rows x 21 columns]"
      ]
     },
     "execution_count": 7,
     "metadata": {},
     "output_type": "execute_result"
    }
   ],
   "source": [
    "# Creat an expectation suite\n",
    "expectation_suite_name = 'expectation-data-ms3'\n",
    "context.add_or_update_expectation_suite(expectation_suite_name)\n",
    "\n",
    "# Create a validator using above expectation suite\n",
    "validator = context.get_validator(\n",
    "    batch_request = batch_request,\n",
    "    expectation_suite_name = expectation_suite_name\n",
    ")\n",
    "\n",
    "# Check the validator\n",
    "validator.head()"
   ]
  },
  {
   "cell_type": "markdown",
   "id": "6f4e6b80",
   "metadata": {},
   "source": [
    "Once the data has been successfully prepared and the validator is connected to the dataset, the next phase is validation. In this project, I applied seven data expectations to ensure the dataset meets quality and consistency standards."
   ]
  },
  {
   "cell_type": "markdown",
   "id": "a27a9516",
   "metadata": {},
   "source": [
    "___\n",
    "### Expectation 1: To Be Unique"
   ]
  },
  {
   "cell_type": "markdown",
   "id": "fba7d630",
   "metadata": {},
   "source": [
    "The expectation expect_compound_columns_to_be_unique is used to ensure that the combined values across all columns in a dataset are entirely unique for each row. In other words, each employee has a distinct combination of attributes—akin to a data \"fingerprint\"—that sets them apart from others.\n",
    "\n",
    "If you want to include this in your dashboard or validation summary, I can help format it in Markdown or create a concise annotation block. Would you like to add a note about why this matters for downstream analysis, like de-duplication or identity mapping?"
   ]
  },
  {
   "cell_type": "code",
   "execution_count": 8,
   "id": "05f63a30",
   "metadata": {},
   "outputs": [
    {
     "data": {
      "application/vnd.jupyter.widget-view+json": {
       "model_id": "0db90ee4d1ec477bbdf2adbb2c189dd4",
       "version_major": 2,
       "version_minor": 0
      },
      "text/plain": [
       "Calculating Metrics:   0%|          | 0/7 [00:00<?, ?it/s]"
      ]
     },
     "metadata": {},
     "output_type": "display_data"
    },
    {
     "data": {
      "text/plain": [
       "{\n",
       "  \"success\": true,\n",
       "  \"result\": {\n",
       "    \"element_count\": 100000,\n",
       "    \"unexpected_count\": 0,\n",
       "    \"unexpected_percent\": 0.0,\n",
       "    \"partial_unexpected_list\": [],\n",
       "    \"missing_count\": 0,\n",
       "    \"missing_percent\": 0.0,\n",
       "    \"unexpected_percent_total\": 0.0,\n",
       "    \"unexpected_percent_nonmissing\": 0.0\n",
       "  },\n",
       "  \"meta\": {},\n",
       "  \"exception_info\": {\n",
       "    \"raised_exception\": false,\n",
       "    \"exception_traceback\": null,\n",
       "    \"exception_message\": null\n",
       "  }\n",
       "}"
      ]
     },
     "execution_count": 8,
     "metadata": {},
     "output_type": "execute_result"
    }
   ],
   "source": [
    "# Expectation 1: \n",
    "# Ensure the uniqueness of each employee record by validating the combination of 20 key attributes.\n",
    "\n",
    "validator.expect_compound_columns_to_be_unique(\n",
    "    column_list = [\n",
    "    \"employee_id\", \n",
    "    \"department\", \n",
    "    \"gender\", \n",
    "    \"age\", \n",
    "    \"job_title\", \n",
    "    \"hire_date\",\n",
    "    \"years_at_company\", \n",
    "    \"education_level\", \n",
    "    \"performance_score\", \n",
    "    \"monthly_salary\",\n",
    "    \"work_hours_per_week\", \n",
    "    \"projects_handled\", \n",
    "    \"overtime_hours\", \n",
    "    \"sick_days\",\n",
    "    \"remote_work_frequency\", \n",
    "    \"team_size\", \n",
    "    \"training_hours\", \n",
    "    \"promotions\",\n",
    "    \"employee_satisfaction_score\", \n",
    "    \"resigned\",\n",
    "    \"age_cap\"])"
   ]
  },
  {
   "cell_type": "markdown",
   "id": "e8e16094",
   "metadata": {},
   "source": [
    "Based on the validation check, none of the combined values across all columns were identical between rows.\n",
    "\n",
    "- Total rows checked: 100,000\n",
    "\n",
    "- Unexpected duplicate values: 0\n",
    "\n",
    "- Missing values: 0\n",
    "\n",
    "- Unexpected percentage: 0.0%"
   ]
  },
  {
   "cell_type": "markdown",
   "id": "18cc0ffc",
   "metadata": {},
   "source": [
    "___\n",
    "### Expectation 2: To Be Between"
   ]
  },
  {
   "cell_type": "markdown",
   "id": "e4dce9c7",
   "metadata": {},
   "source": [
    "The expectation expect_column_values_to_be_between is used to ensure that the values in a given column fall within a specified range.\n",
    "In this dataset, I applied this expectation to validate whether the monthly salary (Monthly_Salary) of all employees falls within the range of 3,850 to 9,000."
   ]
  },
  {
   "cell_type": "code",
   "execution_count": 9,
   "id": "59f29e13",
   "metadata": {},
   "outputs": [
    {
     "data": {
      "application/vnd.jupyter.widget-view+json": {
       "model_id": "0f7c6f3dac664d969822c488c6aecd67",
       "version_major": 2,
       "version_minor": 0
      },
      "text/plain": [
       "Calculating Metrics:   0%|          | 0/8 [00:00<?, ?it/s]"
      ]
     },
     "metadata": {},
     "output_type": "display_data"
    },
    {
     "data": {
      "text/plain": [
       "{\n",
       "  \"success\": true,\n",
       "  \"result\": {\n",
       "    \"element_count\": 100000,\n",
       "    \"unexpected_count\": 0,\n",
       "    \"unexpected_percent\": 0.0,\n",
       "    \"partial_unexpected_list\": [],\n",
       "    \"missing_count\": 0,\n",
       "    \"missing_percent\": 0.0,\n",
       "    \"unexpected_percent_total\": 0.0,\n",
       "    \"unexpected_percent_nonmissing\": 0.0\n",
       "  },\n",
       "  \"meta\": {},\n",
       "  \"exception_info\": {\n",
       "    \"raised_exception\": false,\n",
       "    \"exception_traceback\": null,\n",
       "    \"exception_message\": null\n",
       "  }\n",
       "}"
      ]
     },
     "execution_count": 9,
     "metadata": {},
     "output_type": "execute_result"
    }
   ],
   "source": [
    "# Expectation 2:\n",
    "# Ensure that all values in the 'Monthly_Salary' column fall within a reasonable range,\n",
    "# between 3,850 and 9,000. This range could represent normalized salary units.\n",
    "\n",
    "validator.expect_column_values_to_be_between(\n",
    "    column=\"monthly_salary\",\n",
    "    min_value=3_850,\n",
    "    max_value=9000\n",
    ")"
   ]
  },
  {
   "cell_type": "markdown",
   "id": "d3569bbb",
   "metadata": {},
   "source": [
    "Based on the validation results, the monthly salary values (Monthly_Salary) for all employees fall within the expected range of 3,850 to 9,000.\n",
    "\n",
    "- Total rows checked: 10,000\n",
    "\n",
    "- Unexpected percentage: 0.0%\n",
    "\n",
    "- Missing values: 0\n",
    "\n",
    "- Total unexpected percentage: 0.0%\n",
    "\n",
    "This confirms that the Monthly_Salary column meets the defined range expectation, with no anomalies or missing values detected in the dataset."
   ]
  },
  {
   "cell_type": "markdown",
   "id": "e646ad91",
   "metadata": {},
   "source": [
    "___\n",
    "### Expectation 3: Most Common Value To Be In Set"
   ]
  },
  {
   "cell_type": "markdown",
   "id": "c87ede2f",
   "metadata": {},
   "source": [
    "The expectation expect_column_most_common_value_to_be_in_set is used to validate whether the most frequent value in a column belongs to a specified set.\n",
    "\n",
    "In this case, the expectation was applied to determine whether the department with the highest number of employees is either 'IT' or 'Marketing'—effectively verifying which team dominates in terms of headcount."
   ]
  },
  {
   "cell_type": "code",
   "execution_count": 10,
   "id": "db90d46b",
   "metadata": {},
   "outputs": [
    {
     "data": {
      "application/vnd.jupyter.widget-view+json": {
       "model_id": "2f7506c0edf9497195b488cc583be863",
       "version_major": 2,
       "version_minor": 0
      },
      "text/plain": [
       "Calculating Metrics:   0%|          | 0/4 [00:00<?, ?it/s]"
      ]
     },
     "metadata": {},
     "output_type": "display_data"
    },
    {
     "data": {
      "text/plain": [
       "{\n",
       "  \"success\": true,\n",
       "  \"result\": {\n",
       "    \"observed_value\": [\n",
       "      \"Marketing\"\n",
       "    ]\n",
       "  },\n",
       "  \"meta\": {},\n",
       "  \"exception_info\": {\n",
       "    \"raised_exception\": false,\n",
       "    \"exception_traceback\": null,\n",
       "    \"exception_message\": null\n",
       "  }\n",
       "}"
      ]
     },
     "execution_count": 10,
     "metadata": {},
     "output_type": "execute_result"
    }
   ],
   "source": [
    "# Expectation 3:\n",
    "# Confirm that the most frequently occurring value in the 'Department' column is either 'IT' or 'Marketing'. \n",
    "# This helps check for dominant categories. If there is a tie between values, it is still considered valid.\n",
    "\n",
    "validator.expect_column_most_common_value_to_be_in_set(\n",
    "    column=\"department\",\n",
    "    value_set=[\"IT\", \"Marketing\"],\n",
    "    ties_okay=True  # set ke True kalau kamu mau toleransi nilai dominan lebih dari 1\n",
    ")\n"
   ]
  },
  {
   "cell_type": "markdown",
   "id": "ffcdafef",
   "metadata": {},
   "source": [
    "Based on the validation, the Marketing team has the highest number of employees in the company.\n",
    "\n",
    "- Most common department (observed value): Marketing\n",
    "\n",
    "This confirms that the expectation expect_column_most_common_value_to_be_in_set was successfully validated, with the Marketing department being the dominant team among employees."
   ]
  },
  {
   "cell_type": "markdown",
   "id": "25a06e29",
   "metadata": {},
   "source": [
    "___\n",
    "### Expecation 4: Column Values To Be In Set"
   ]
  },
  {
   "cell_type": "markdown",
   "id": "e5f41fbf",
   "metadata": {},
   "source": [
    "The expectation expect_column_values_to_be_in_set is used to validate whether the values in a column strictly match a predefined set.\n",
    "In this case, the expectation was applied to ensure that the educational qualifications of all employees are limited to the following degrees:\n",
    "- High School\n",
    "- Bachelor\n",
    "- Master\n",
    "- PhD\n",
    "\n",
    "This validation helps ensure consistency in the dataset and flags any unexpected or misspelled entries that could affect downstream analysis."
   ]
  },
  {
   "cell_type": "code",
   "execution_count": 11,
   "id": "df4f7105",
   "metadata": {},
   "outputs": [
    {
     "data": {
      "application/vnd.jupyter.widget-view+json": {
       "model_id": "f0d43b08c2a44dce8535ede4ba509982",
       "version_major": 2,
       "version_minor": 0
      },
      "text/plain": [
       "Calculating Metrics:   0%|          | 0/8 [00:00<?, ?it/s]"
      ]
     },
     "metadata": {},
     "output_type": "display_data"
    },
    {
     "data": {
      "text/plain": [
       "{\n",
       "  \"success\": true,\n",
       "  \"result\": {\n",
       "    \"element_count\": 100000,\n",
       "    \"unexpected_count\": 0,\n",
       "    \"unexpected_percent\": 0.0,\n",
       "    \"partial_unexpected_list\": [],\n",
       "    \"missing_count\": 0,\n",
       "    \"missing_percent\": 0.0,\n",
       "    \"unexpected_percent_total\": 0.0,\n",
       "    \"unexpected_percent_nonmissing\": 0.0\n",
       "  },\n",
       "  \"meta\": {},\n",
       "  \"exception_info\": {\n",
       "    \"raised_exception\": false,\n",
       "    \"exception_traceback\": null,\n",
       "    \"exception_message\": null\n",
       "  }\n",
       "}"
      ]
     },
     "execution_count": 11,
     "metadata": {},
     "output_type": "execute_result"
    }
   ],
   "source": [
    "# Expectation 4:\n",
    "# Validate that all values in the 'Education_Level' column match one of the expected options.\n",
    "# Helps ensure categorical integrity and catch typos or unexpected entries.\n",
    "\n",
    "validator.expect_column_values_to_be_in_set(\n",
    "    column=\"education_level\",\n",
    "    value_set=['High School', 'Bachelor', 'Master', 'PhD']  # Ganti sesuai daftar nilai valid kamu\n",
    ")"
   ]
  },
  {
   "cell_type": "markdown",
   "id": "65f187e2",
   "metadata": {},
   "source": [
    "Following the validation, it's confirmed that all employee education levels are limited to the expected values: High School, Bachelor, Master, and PhD.\n",
    "- Total rows checked: 10,000\n",
    "- Unexpected percentage: 0.0%\n",
    "- Missing values: 0\n",
    "- Total unexpected percentage: 0.0%\n",
    "\n",
    "This validates the consistency and completeness of the Education_Level column, with no anomalies or missing entries detected."
   ]
  },
  {
   "cell_type": "markdown",
   "id": "c872e5a6",
   "metadata": {},
   "source": [
    "___\n",
    "### Expectation 5: Column Values To Not Be Null"
   ]
  },
  {
   "cell_type": "markdown",
   "id": "e0174037",
   "metadata": {},
   "source": [
    "The expectation expect_column_values_to_not_be_null is used to verify whether a given column contains any missing values.\n",
    "\n",
    "In this case, the expectation was applied to check if the 'Resigned' status of all employees is fully populated—ensuring that there are no empty or null values in this column."
   ]
  },
  {
   "cell_type": "code",
   "execution_count": 12,
   "id": "e5377262",
   "metadata": {},
   "outputs": [
    {
     "data": {
      "application/vnd.jupyter.widget-view+json": {
       "model_id": "84e3b08965304c58ae809f992c3ece59",
       "version_major": 2,
       "version_minor": 0
      },
      "text/plain": [
       "Calculating Metrics:   0%|          | 0/6 [00:00<?, ?it/s]"
      ]
     },
     "metadata": {},
     "output_type": "display_data"
    },
    {
     "data": {
      "text/plain": [
       "{\n",
       "  \"success\": true,\n",
       "  \"result\": {\n",
       "    \"element_count\": 100000,\n",
       "    \"unexpected_count\": 0,\n",
       "    \"unexpected_percent\": 0.0,\n",
       "    \"partial_unexpected_list\": []\n",
       "  },\n",
       "  \"meta\": {},\n",
       "  \"exception_info\": {\n",
       "    \"raised_exception\": false,\n",
       "    \"exception_traceback\": null,\n",
       "    \"exception_message\": null\n",
       "  }\n",
       "}"
      ]
     },
     "execution_count": 12,
     "metadata": {},
     "output_type": "execute_result"
    }
   ],
   "source": [
    "# Expectation 5:\n",
    "# Check that the 'resigned' column has no null (missing) values.\n",
    "# Essential when this column is used as a target variable or in reporting.\n",
    "\n",
    "validator.expect_column_values_to_not_be_null(column=\"resigned\")"
   ]
  },
  {
   "cell_type": "markdown",
   "id": "78891725",
   "metadata": {},
   "source": [
    "The validation confirms that all employees have their respective 'Resigned' status properly filled.\n",
    "\n",
    "- Total rows checked: 10,000\n",
    "- Unexpected percentage: 0.0%\n",
    "\n",
    "This ensures the completeness of the Resigned column, with no missing or null values detected, maintaining the reliability of resignation-related insights in the dataset."
   ]
  },
  {
   "cell_type": "markdown",
   "id": "1a049424",
   "metadata": {},
   "source": [
    "___\n",
    "### Expectation 6: Table Column Count To Equal"
   ]
  },
  {
   "cell_type": "markdown",
   "id": "380546ca",
   "metadata": {},
   "source": [
    "The expectation expect_table_column_count_to_equal is used to verify whether the dataset contains the correct number of columns as intended.\n",
    "\n",
    "For this dataset, the expected structure includes 21 data types or columns, representing the full set of employee attributes required for analysis."
   ]
  },
  {
   "cell_type": "code",
   "execution_count": 13,
   "id": "fe21e3c6",
   "metadata": {},
   "outputs": [
    {
     "data": {
      "application/vnd.jupyter.widget-view+json": {
       "model_id": "4f260fdc851747d69b521a9998b67bfb",
       "version_major": 2,
       "version_minor": 0
      },
      "text/plain": [
       "Calculating Metrics:   0%|          | 0/3 [00:00<?, ?it/s]"
      ]
     },
     "metadata": {},
     "output_type": "display_data"
    },
    {
     "data": {
      "text/plain": [
       "{\n",
       "  \"success\": true,\n",
       "  \"result\": {\n",
       "    \"observed_value\": 21\n",
       "  },\n",
       "  \"meta\": {},\n",
       "  \"exception_info\": {\n",
       "    \"raised_exception\": false,\n",
       "    \"exception_traceback\": null,\n",
       "    \"exception_message\": null\n",
       "  }\n",
       "}"
      ]
     },
     "execution_count": 13,
     "metadata": {},
     "output_type": "execute_result"
    }
   ],
   "source": [
    "# Expectation 6:\n",
    "# Ensure the dataset has exactly 20 columns as expected by the schema.\n",
    "# This guards against structural changes in the dataset over time.\n",
    "\n",
    "validator.expect_table_column_count_to_equal(value=21)"
   ]
  },
  {
   "cell_type": "markdown",
   "id": "6297c133",
   "metadata": {},
   "source": [
    "The validation confirms that the dataset under observation contains exactly 21 columns, aligning with the expected structure for employee data.\n",
    "- Number of observed columns: 21\n",
    "\n",
    "This result verifies the integrity of the data schema using the expect_table_column_count_to_equal expectation, ensuring all relevant attributes are present for downstream analysis.\n"
   ]
  },
  {
   "cell_type": "markdown",
   "id": "59cc7b3d",
   "metadata": {},
   "source": [
    "___\n",
    "### Expectation 7: Column Values To Be Of Type"
   ]
  },
  {
   "cell_type": "markdown",
   "id": "8710f76b",
   "metadata": {},
   "source": [
    "The expectation expect_column_values_to_be_of_type is used to validate whether the values in a column conform to a specified data type.\n",
    "\n",
    "In this case, the expectation was applied to verify that the Monthly_Salary column contains values of type float, ensuring numerical precision for downstream calculations and visualizations."
   ]
  },
  {
   "cell_type": "code",
   "execution_count": 14,
   "id": "42cd026e",
   "metadata": {},
   "outputs": [
    {
     "data": {
      "application/vnd.jupyter.widget-view+json": {
       "model_id": "31d108f4b7de4f9390a439787d5172d2",
       "version_major": 2,
       "version_minor": 0
      },
      "text/plain": [
       "Calculating Metrics:   0%|          | 0/1 [00:00<?, ?it/s]"
      ]
     },
     "metadata": {},
     "output_type": "display_data"
    },
    {
     "data": {
      "text/plain": [
       "{\n",
       "  \"success\": true,\n",
       "  \"result\": {\n",
       "    \"observed_value\": \"float64\"\n",
       "  },\n",
       "  \"meta\": {},\n",
       "  \"exception_info\": {\n",
       "    \"raised_exception\": false,\n",
       "    \"exception_traceback\": null,\n",
       "    \"exception_message\": null\n",
       "  }\n",
       "}"
      ]
     },
     "execution_count": 14,
     "metadata": {},
     "output_type": "execute_result"
    }
   ],
   "source": [
    "# Expectation 7:\n",
    "# Validate that values in the 'Monthly_Salary' column are of float data type.\n",
    "# Important for calculations, aggregations, and preventing type-related bugs.\n",
    "\n",
    "validator.expect_column_values_to_be_of_type(\n",
    "    column=\"monthly_salary\",\n",
    "    type_=\"float\"\n",
    ")"
   ]
  },
  {
   "cell_type": "markdown",
   "id": "e9221589",
   "metadata": {},
   "source": [
    "The validation confirms that the values in the Monthly_Salary column are indeed of type float64, ensuring compatibility with numerical operations and analytical processes.\n",
    "- Observed data type: float64\n",
    "\n",
    "After completing all data validations, the next step is to create a checkpoint, which saves all configured expectations to the dataset. This allows for reproducible validation workflows and serves as a reference for future data quality checks\n"
   ]
  },
  {
   "cell_type": "markdown",
   "id": "97753046",
   "metadata": {},
   "source": [
    "___"
   ]
  },
  {
   "cell_type": "markdown",
   "id": "069f0215",
   "metadata": {},
   "source": [
    "## Checkpoint"
   ]
  },
  {
   "cell_type": "markdown",
   "id": "af2390ed",
   "metadata": {},
   "source": [
    "Checkpoints are used to:\n",
    "- Embed data validations into the DAG, enabling seamless integration with pipeline orchestration tools.\n",
    "- Ensure data quality before further processing, serving as a gatekeeper for clean, reliable inputs.\n",
    "- Store validation results so they can be visualized or revisited later for audits, debugging, or stakeholder reviews."
   ]
  },
  {
   "cell_type": "code",
   "execution_count": 14,
   "id": "baaa8293",
   "metadata": {},
   "outputs": [
    {
     "data": {
      "application/vnd.jupyter.widget-view+json": {
       "model_id": "846c5b86f5dd45328f4b1f6468c9b57e",
       "version_major": 2,
       "version_minor": 0
      },
      "text/plain": [
       "Calculating Metrics:   0%|          | 0/30 [00:00<?, ?it/s]"
      ]
     },
     "metadata": {},
     "output_type": "display_data"
    }
   ],
   "source": [
    "# Create a checkpoint\n",
    "validator.save_expectation_suite(discard_failed_expectations=False)\n",
    "checkpoint_1 = context.add_or_update_checkpoint(\n",
    "    name = 'checkpoint_1',\n",
    "    validator = validator,\n",
    ")\n",
    "\n",
    "# Run a checkpoint\n",
    "checkpoint_result = checkpoint_1.run()"
   ]
  },
  {
   "cell_type": "markdown",
   "id": "37124516",
   "metadata": {},
   "source": [
    "Next comes the creation of Data Docs, which are auto-generated HTML reports summarizing the data validations executed via checkpoints or expectation suites.\n",
    "\n",
    "Great Expectations automatically generates visual documentation that includes:\n",
    "- Expectation status (success/failure)\n",
    "- Dataset statistics\n",
    "- Links to the suite and checkpoint\n",
    "- Metadata and batch details\n",
    "\n",
    "These Data Docs provide a user-friendly way to audit validation results, share data quality insights, and maintain transparency throughout the pipeline.\n"
   ]
  },
  {
   "cell_type": "markdown",
   "id": "c16d7d2b",
   "metadata": {},
   "source": [
    "___"
   ]
  },
  {
   "cell_type": "markdown",
   "id": "c5855f85",
   "metadata": {},
   "source": [
    "## Data Docs"
   ]
  },
  {
   "cell_type": "code",
   "execution_count": null,
   "id": "08a3340b",
   "metadata": {},
   "outputs": [],
   "source": [
    "# Build data docs\n",
    "\n",
    "context.build_data_docs()"
   ]
  },
  {
   "cell_type": "markdown",
   "id": "bd9f3302",
   "metadata": {},
   "source": [
    "With the data validation phase completed using Great Expectations, the next stage involves data visualization through Kibana, leveraging the indexed data in Elasticsearch. This enables interactive exploration and storytelling around employee performance and productivity metrics."
   ]
  },
  {
   "cell_type": "markdown",
   "id": "b2a3c66e",
   "metadata": {},
   "source": [
    "___"
   ]
  }
 ],
 "metadata": {
  "kernelspec": {
   "display_name": "my_env",
   "language": "python",
   "name": "python3"
  },
  "language_info": {
   "codemirror_mode": {
    "name": "ipython",
    "version": 3
   },
   "file_extension": ".py",
   "mimetype": "text/x-python",
   "name": "python",
   "nbconvert_exporter": "python",
   "pygments_lexer": "ipython3",
   "version": "3.10.18"
  }
 },
 "nbformat": 4,
 "nbformat_minor": 5
}
